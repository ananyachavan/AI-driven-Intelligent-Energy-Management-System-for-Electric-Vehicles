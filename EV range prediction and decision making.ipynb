{
 "cells": [
  {
   "cell_type": "code",
   "execution_count": 1,
   "id": "541afd2b",
   "metadata": {},
   "outputs": [],
   "source": [
    "#Importing the Libraries and data\n",
    "import numpy as np\n",
    "import pandas as pd\n",
    "import seaborn as sns\n",
    "import matplotlib.pyplot as plt\n",
    "%matplotlib inline\n",
    "from numpy import asarray\n",
    "from sklearn.preprocessing import OrdinalEncoder\n",
    "from sklearn.model_selection import train_test_split\n",
    "from sklearn.linear_model import LinearRegression\n",
    "from sklearn.metrics import mean_squared_error, mean_absolute_error, r2_score"
   ]
  },
  {
   "cell_type": "code",
   "execution_count": 4,
   "id": "2e88368e",
   "metadata": {},
   "outputs": [
    {
     "data": {
      "text/html": [
       "<div>\n",
       "<style scoped>\n",
       "    .dataframe tbody tr th:only-of-type {\n",
       "        vertical-align: middle;\n",
       "    }\n",
       "\n",
       "    .dataframe tbody tr th {\n",
       "        vertical-align: top;\n",
       "    }\n",
       "\n",
       "    .dataframe thead th {\n",
       "        text-align: right;\n",
       "    }\n",
       "</style>\n",
       "<table border=\"1\" class=\"dataframe\">\n",
       "  <thead>\n",
       "    <tr style=\"text-align: right;\">\n",
       "      <th></th>\n",
       "      <th>Brand</th>\n",
       "      <th>Model</th>\n",
       "      <th>AccelSec</th>\n",
       "      <th>TopSpeed_KmH</th>\n",
       "      <th>Range_Km</th>\n",
       "      <th>Efficiency_WhKm</th>\n",
       "      <th>FastCharge_KmH</th>\n",
       "      <th>RapidCharge</th>\n",
       "      <th>PowerTrain</th>\n",
       "      <th>PlugType</th>\n",
       "      <th>BodyStyle</th>\n",
       "      <th>Segment</th>\n",
       "      <th>Seats</th>\n",
       "      <th>PriceEuro</th>\n",
       "    </tr>\n",
       "  </thead>\n",
       "  <tbody>\n",
       "    <tr>\n",
       "      <th>0</th>\n",
       "      <td>Tesla</td>\n",
       "      <td>Model 3 Long Range Dual Motor</td>\n",
       "      <td>4.6</td>\n",
       "      <td>233</td>\n",
       "      <td>450</td>\n",
       "      <td>161</td>\n",
       "      <td>940</td>\n",
       "      <td>Yes</td>\n",
       "      <td>AWD</td>\n",
       "      <td>Type 2 CCS</td>\n",
       "      <td>Sedan</td>\n",
       "      <td>D</td>\n",
       "      <td>5</td>\n",
       "      <td>55480</td>\n",
       "    </tr>\n",
       "    <tr>\n",
       "      <th>1</th>\n",
       "      <td>Volkswagen</td>\n",
       "      <td>ID.3 Pure</td>\n",
       "      <td>10.0</td>\n",
       "      <td>160</td>\n",
       "      <td>270</td>\n",
       "      <td>167</td>\n",
       "      <td>250</td>\n",
       "      <td>Yes</td>\n",
       "      <td>RWD</td>\n",
       "      <td>Type 2 CCS</td>\n",
       "      <td>Hatchback</td>\n",
       "      <td>C</td>\n",
       "      <td>5</td>\n",
       "      <td>30000</td>\n",
       "    </tr>\n",
       "    <tr>\n",
       "      <th>2</th>\n",
       "      <td>Polestar</td>\n",
       "      <td>2</td>\n",
       "      <td>4.7</td>\n",
       "      <td>210</td>\n",
       "      <td>400</td>\n",
       "      <td>181</td>\n",
       "      <td>620</td>\n",
       "      <td>Yes</td>\n",
       "      <td>AWD</td>\n",
       "      <td>Type 2 CCS</td>\n",
       "      <td>Liftback</td>\n",
       "      <td>D</td>\n",
       "      <td>5</td>\n",
       "      <td>56440</td>\n",
       "    </tr>\n",
       "    <tr>\n",
       "      <th>3</th>\n",
       "      <td>BMW</td>\n",
       "      <td>iX3</td>\n",
       "      <td>6.8</td>\n",
       "      <td>180</td>\n",
       "      <td>360</td>\n",
       "      <td>206</td>\n",
       "      <td>560</td>\n",
       "      <td>Yes</td>\n",
       "      <td>RWD</td>\n",
       "      <td>Type 2 CCS</td>\n",
       "      <td>SUV</td>\n",
       "      <td>D</td>\n",
       "      <td>5</td>\n",
       "      <td>68040</td>\n",
       "    </tr>\n",
       "    <tr>\n",
       "      <th>4</th>\n",
       "      <td>Honda</td>\n",
       "      <td>e</td>\n",
       "      <td>9.5</td>\n",
       "      <td>145</td>\n",
       "      <td>170</td>\n",
       "      <td>168</td>\n",
       "      <td>190</td>\n",
       "      <td>Yes</td>\n",
       "      <td>RWD</td>\n",
       "      <td>Type 2 CCS</td>\n",
       "      <td>Hatchback</td>\n",
       "      <td>B</td>\n",
       "      <td>4</td>\n",
       "      <td>32997</td>\n",
       "    </tr>\n",
       "  </tbody>\n",
       "</table>\n",
       "</div>"
      ],
      "text/plain": [
       "         Brand                          Model  AccelSec  TopSpeed_KmH  \\\n",
       "0       Tesla   Model 3 Long Range Dual Motor       4.6           233   \n",
       "1  Volkswagen                       ID.3 Pure      10.0           160   \n",
       "2    Polestar                               2       4.7           210   \n",
       "3         BMW                            iX3        6.8           180   \n",
       "4       Honda                              e        9.5           145   \n",
       "\n",
       "   Range_Km  Efficiency_WhKm FastCharge_KmH RapidCharge PowerTrain  \\\n",
       "0       450              161            940         Yes        AWD   \n",
       "1       270              167            250         Yes        RWD   \n",
       "2       400              181            620         Yes        AWD   \n",
       "3       360              206            560         Yes        RWD   \n",
       "4       170              168            190         Yes        RWD   \n",
       "\n",
       "     PlugType  BodyStyle Segment  Seats  PriceEuro  \n",
       "0  Type 2 CCS      Sedan       D      5      55480  \n",
       "1  Type 2 CCS  Hatchback       C      5      30000  \n",
       "2  Type 2 CCS   Liftback       D      5      56440  \n",
       "3  Type 2 CCS        SUV       D      5      68040  \n",
       "4  Type 2 CCS  Hatchback       B      4      32997  "
      ]
     },
     "execution_count": 4,
     "metadata": {},
     "output_type": "execute_result"
    }
   ],
   "source": [
    "# Import the CSV file \n",
    "ev = pd.read_csv('D:/TY1/EDI/EDI_SEM5/Model/ElectricCarData_Clean.csv')\n",
    "ev.head()"
   ]
  },
  {
   "cell_type": "code",
   "execution_count": 5,
   "id": "771c95ce",
   "metadata": {},
   "outputs": [
    {
     "data": {
      "text/plain": [
       "Index(['Brand', 'Model', 'AccelSec', 'TopSpeed_KmH', 'Range_Km',\n",
       "       'Efficiency_WhKm', 'FastCharge_KmH', 'RapidCharge', 'PowerTrain',\n",
       "       'PlugType', 'BodyStyle', 'Segment', 'Seats', 'PriceEuro'],\n",
       "      dtype='object')"
      ]
     },
     "execution_count": 5,
     "metadata": {},
     "output_type": "execute_result"
    }
   ],
   "source": [
    "ev.columns"
   ]
  },
  {
   "cell_type": "code",
   "execution_count": 6,
   "id": "0647a112",
   "metadata": {},
   "outputs": [
    {
     "name": "stdout",
     "output_type": "stream",
     "text": [
      "<class 'pandas.core.frame.DataFrame'>\n",
      "RangeIndex: 103 entries, 0 to 102\n",
      "Data columns (total 14 columns):\n",
      " #   Column           Non-Null Count  Dtype  \n",
      "---  ------           --------------  -----  \n",
      " 0   Brand            103 non-null    object \n",
      " 1   Model            103 non-null    object \n",
      " 2   AccelSec         103 non-null    float64\n",
      " 3   TopSpeed_KmH     103 non-null    int64  \n",
      " 4   Range_Km         103 non-null    int64  \n",
      " 5   Efficiency_WhKm  103 non-null    int64  \n",
      " 6   FastCharge_KmH   103 non-null    object \n",
      " 7   RapidCharge      103 non-null    object \n",
      " 8   PowerTrain       103 non-null    object \n",
      " 9   PlugType         103 non-null    object \n",
      " 10  BodyStyle        103 non-null    object \n",
      " 11  Segment          103 non-null    object \n",
      " 12  Seats            103 non-null    int64  \n",
      " 13  PriceEuro        103 non-null    int64  \n",
      "dtypes: float64(1), int64(5), object(8)\n",
      "memory usage: 11.4+ KB\n"
     ]
    }
   ],
   "source": [
    "ev.info()"
   ]
  },
  {
   "cell_type": "code",
   "execution_count": 7,
   "id": "5b21e7e9",
   "metadata": {},
   "outputs": [
    {
     "data": {
      "text/plain": [
       "Brand              0\n",
       "Model              0\n",
       "AccelSec           0\n",
       "TopSpeed_KmH       0\n",
       "Range_Km           0\n",
       "Efficiency_WhKm    0\n",
       "FastCharge_KmH     0\n",
       "RapidCharge        0\n",
       "PowerTrain         0\n",
       "PlugType           0\n",
       "BodyStyle          0\n",
       "Segment            0\n",
       "Seats              0\n",
       "PriceEuro          0\n",
       "dtype: int64"
      ]
     },
     "execution_count": 7,
     "metadata": {},
     "output_type": "execute_result"
    }
   ],
   "source": [
    "ev.shape\n",
    "ev.isnull().sum()"
   ]
  },
  {
   "cell_type": "code",
   "execution_count": 8,
   "id": "8f1b1076",
   "metadata": {},
   "outputs": [
    {
     "data": {
      "text/plain": [
       "Brand               object\n",
       "Model               object\n",
       "AccelSec           float64\n",
       "TopSpeed_KmH         int64\n",
       "Range_Km             int64\n",
       "Efficiency_WhKm      int64\n",
       "FastCharge_KmH      object\n",
       "RapidCharge         object\n",
       "PowerTrain          object\n",
       "PlugType            object\n",
       "BodyStyle           object\n",
       "Segment             object\n",
       "Seats                int64\n",
       "PriceEuro            int64\n",
       "dtype: object"
      ]
     },
     "execution_count": 8,
     "metadata": {},
     "output_type": "execute_result"
    }
   ],
   "source": [
    "ev.dtypes"
   ]
  },
  {
   "cell_type": "code",
   "execution_count": 9,
   "id": "c27ce23f",
   "metadata": {},
   "outputs": [
    {
     "data": {
      "text/plain": [
       "Brand               33\n",
       "Model              102\n",
       "AccelSec            55\n",
       "TopSpeed_KmH        25\n",
       "Range_Km            50\n",
       "Efficiency_WhKm     54\n",
       "FastCharge_KmH      51\n",
       "RapidCharge          2\n",
       "PowerTrain           3\n",
       "PlugType             4\n",
       "BodyStyle            9\n",
       "Segment              8\n",
       "Seats                5\n",
       "PriceEuro           87\n",
       "dtype: int64"
      ]
     },
     "execution_count": 9,
     "metadata": {},
     "output_type": "execute_result"
    }
   ],
   "source": [
    "ev.nunique()"
   ]
  },
  {
   "cell_type": "code",
   "execution_count": 10,
   "id": "e6354c74",
   "metadata": {},
   "outputs": [
    {
     "data": {
      "text/html": [
       "<div>\n",
       "<style scoped>\n",
       "    .dataframe tbody tr th:only-of-type {\n",
       "        vertical-align: middle;\n",
       "    }\n",
       "\n",
       "    .dataframe tbody tr th {\n",
       "        vertical-align: top;\n",
       "    }\n",
       "\n",
       "    .dataframe thead th {\n",
       "        text-align: right;\n",
       "    }\n",
       "</style>\n",
       "<table border=\"1\" class=\"dataframe\">\n",
       "  <thead>\n",
       "    <tr style=\"text-align: right;\">\n",
       "      <th></th>\n",
       "      <th>AccelSec</th>\n",
       "      <th>TopSpeed_KmH</th>\n",
       "      <th>Range_Km</th>\n",
       "      <th>Efficiency_WhKm</th>\n",
       "      <th>Seats</th>\n",
       "      <th>PriceEuro</th>\n",
       "    </tr>\n",
       "  </thead>\n",
       "  <tbody>\n",
       "    <tr>\n",
       "      <th>count</th>\n",
       "      <td>103.000000</td>\n",
       "      <td>103.000000</td>\n",
       "      <td>103.000000</td>\n",
       "      <td>103.000000</td>\n",
       "      <td>103.000000</td>\n",
       "      <td>103.000000</td>\n",
       "    </tr>\n",
       "    <tr>\n",
       "      <th>mean</th>\n",
       "      <td>7.396117</td>\n",
       "      <td>179.194175</td>\n",
       "      <td>338.786408</td>\n",
       "      <td>189.165049</td>\n",
       "      <td>4.883495</td>\n",
       "      <td>55811.563107</td>\n",
       "    </tr>\n",
       "    <tr>\n",
       "      <th>std</th>\n",
       "      <td>3.017430</td>\n",
       "      <td>43.573030</td>\n",
       "      <td>126.014444</td>\n",
       "      <td>29.566839</td>\n",
       "      <td>0.795834</td>\n",
       "      <td>34134.665280</td>\n",
       "    </tr>\n",
       "    <tr>\n",
       "      <th>min</th>\n",
       "      <td>2.100000</td>\n",
       "      <td>123.000000</td>\n",
       "      <td>95.000000</td>\n",
       "      <td>104.000000</td>\n",
       "      <td>2.000000</td>\n",
       "      <td>20129.000000</td>\n",
       "    </tr>\n",
       "    <tr>\n",
       "      <th>25%</th>\n",
       "      <td>5.100000</td>\n",
       "      <td>150.000000</td>\n",
       "      <td>250.000000</td>\n",
       "      <td>168.000000</td>\n",
       "      <td>5.000000</td>\n",
       "      <td>34429.500000</td>\n",
       "    </tr>\n",
       "    <tr>\n",
       "      <th>50%</th>\n",
       "      <td>7.300000</td>\n",
       "      <td>160.000000</td>\n",
       "      <td>340.000000</td>\n",
       "      <td>180.000000</td>\n",
       "      <td>5.000000</td>\n",
       "      <td>45000.000000</td>\n",
       "    </tr>\n",
       "    <tr>\n",
       "      <th>75%</th>\n",
       "      <td>9.000000</td>\n",
       "      <td>200.000000</td>\n",
       "      <td>400.000000</td>\n",
       "      <td>203.000000</td>\n",
       "      <td>5.000000</td>\n",
       "      <td>65000.000000</td>\n",
       "    </tr>\n",
       "    <tr>\n",
       "      <th>max</th>\n",
       "      <td>22.400000</td>\n",
       "      <td>410.000000</td>\n",
       "      <td>970.000000</td>\n",
       "      <td>273.000000</td>\n",
       "      <td>7.000000</td>\n",
       "      <td>215000.000000</td>\n",
       "    </tr>\n",
       "  </tbody>\n",
       "</table>\n",
       "</div>"
      ],
      "text/plain": [
       "         AccelSec  TopSpeed_KmH    Range_Km  Efficiency_WhKm       Seats  \\\n",
       "count  103.000000    103.000000  103.000000       103.000000  103.000000   \n",
       "mean     7.396117    179.194175  338.786408       189.165049    4.883495   \n",
       "std      3.017430     43.573030  126.014444        29.566839    0.795834   \n",
       "min      2.100000    123.000000   95.000000       104.000000    2.000000   \n",
       "25%      5.100000    150.000000  250.000000       168.000000    5.000000   \n",
       "50%      7.300000    160.000000  340.000000       180.000000    5.000000   \n",
       "75%      9.000000    200.000000  400.000000       203.000000    5.000000   \n",
       "max     22.400000    410.000000  970.000000       273.000000    7.000000   \n",
       "\n",
       "           PriceEuro  \n",
       "count     103.000000  \n",
       "mean    55811.563107  \n",
       "std     34134.665280  \n",
       "min     20129.000000  \n",
       "25%     34429.500000  \n",
       "50%     45000.000000  \n",
       "75%     65000.000000  \n",
       "max    215000.000000  "
      ]
     },
     "execution_count": 10,
     "metadata": {},
     "output_type": "execute_result"
    }
   ],
   "source": [
    "ev.describe()"
   ]
  },
  {
   "cell_type": "code",
   "execution_count": 11,
   "id": "48b3652c",
   "metadata": {},
   "outputs": [
    {
     "name": "stderr",
     "output_type": "stream",
     "text": [
      "C:\\Users\\Ananya\\AppData\\Local\\Temp\\ipykernel_11908\\2435372775.py:3: FutureWarning: \n",
      "\n",
      "Passing `palette` without assigning `hue` is deprecated and will be removed in v0.14.0. Assign the `x` variable to `hue` and set `legend=False` for the same effect.\n",
      "\n",
      "  sns.barplot(x='Brand',y='Range_Km',data=ev,palette='hls')\n"
     ]
    },
    {
     "data": {
      "text/plain": [
       "([0,\n",
       "  1,\n",
       "  2,\n",
       "  3,\n",
       "  4,\n",
       "  5,\n",
       "  6,\n",
       "  7,\n",
       "  8,\n",
       "  9,\n",
       "  10,\n",
       "  11,\n",
       "  12,\n",
       "  13,\n",
       "  14,\n",
       "  15,\n",
       "  16,\n",
       "  17,\n",
       "  18,\n",
       "  19,\n",
       "  20,\n",
       "  21,\n",
       "  22,\n",
       "  23,\n",
       "  24,\n",
       "  25,\n",
       "  26,\n",
       "  27,\n",
       "  28,\n",
       "  29,\n",
       "  30,\n",
       "  31,\n",
       "  32],\n",
       " [Text(0, 0, 'Tesla '),\n",
       "  Text(1, 0, 'Volkswagen '),\n",
       "  Text(2, 0, 'Polestar '),\n",
       "  Text(3, 0, 'BMW '),\n",
       "  Text(4, 0, 'Honda '),\n",
       "  Text(5, 0, 'Lucid '),\n",
       "  Text(6, 0, 'Peugeot '),\n",
       "  Text(7, 0, 'Audi '),\n",
       "  Text(8, 0, 'Mercedes '),\n",
       "  Text(9, 0, 'Nissan '),\n",
       "  Text(10, 0, 'Hyundai '),\n",
       "  Text(11, 0, 'Porsche '),\n",
       "  Text(12, 0, 'MG '),\n",
       "  Text(13, 0, 'Mini '),\n",
       "  Text(14, 0, 'Opel '),\n",
       "  Text(15, 0, 'Skoda '),\n",
       "  Text(16, 0, 'Volvo '),\n",
       "  Text(17, 0, 'Kia '),\n",
       "  Text(18, 0, 'Renault '),\n",
       "  Text(19, 0, 'Mazda '),\n",
       "  Text(20, 0, 'Lexus '),\n",
       "  Text(21, 0, 'CUPRA '),\n",
       "  Text(22, 0, 'SEAT '),\n",
       "  Text(23, 0, 'Lightyear '),\n",
       "  Text(24, 0, 'Aiways '),\n",
       "  Text(25, 0, 'DS '),\n",
       "  Text(26, 0, 'Citroen '),\n",
       "  Text(27, 0, 'Jaguar '),\n",
       "  Text(28, 0, 'Ford '),\n",
       "  Text(29, 0, 'Byton '),\n",
       "  Text(30, 0, 'Sono '),\n",
       "  Text(31, 0, 'Smart '),\n",
       "  Text(32, 0, 'Fiat ')])"
      ]
     },
     "execution_count": 11,
     "metadata": {},
     "output_type": "execute_result"
    },
    {
     "data": {
      "image/png": "[encoded data removed]",
      "text/plain": [
       "<Figure size 2000x500 with 1 Axes>"
      ]
     },
     "metadata": {},
     "output_type": "display_data"
    }
   ],
   "source": [
    "#Analysis range by EV Brand\n",
    "ax= plt.figure(figsize=(20,5))\n",
    "sns.barplot(x='Brand',y='Range_Km',data=ev,palette='hls')\n",
    "plt.grid(axis='y')\n",
    "plt.title('Electric Vehicle Range VS EV Brand')\n",
    "plt.xlabel('Brand')\n",
    "plt.ylabel('Range per Km')\n",
    "plt.xticks(rotation=45)"
   ]
  },
  {
   "cell_type": "code",
   "execution_count": 12,
   "id": "90f1c694",
   "metadata": {},
   "outputs": [
    {
     "data": {
      "text/html": [
       "<div>\n",
       "<style scoped>\n",
       "    .dataframe tbody tr th:only-of-type {\n",
       "        vertical-align: middle;\n",
       "    }\n",
       "\n",
       "    .dataframe tbody tr th {\n",
       "        vertical-align: top;\n",
       "    }\n",
       "\n",
       "    .dataframe thead th {\n",
       "        text-align: right;\n",
       "    }\n",
       "</style>\n",
       "<table border=\"1\" class=\"dataframe\">\n",
       "  <thead>\n",
       "    <tr style=\"text-align: right;\">\n",
       "      <th></th>\n",
       "      <th>Brand</th>\n",
       "      <th>Model</th>\n",
       "      <th>Range_Km</th>\n",
       "    </tr>\n",
       "  </thead>\n",
       "  <tbody>\n",
       "    <tr>\n",
       "      <th>51</th>\n",
       "      <td>Tesla</td>\n",
       "      <td>Roadster</td>\n",
       "      <td>970</td>\n",
       "    </tr>\n",
       "  </tbody>\n",
       "</table>\n",
       "</div>"
      ],
      "text/plain": [
       "     Brand      Model  Range_Km\n",
       "51  Tesla   Roadster        970"
      ]
     },
     "execution_count": 12,
     "metadata": {},
     "output_type": "execute_result"
    }
   ],
   "source": [
    "# model with highest range\n",
    "range_df = ev.sort_values(by=['Range_Km'], ascending=False)\n",
    "range_df[['Brand','Model','Range_Km']].head(n=1)"
   ]
  },
  {
   "cell_type": "code",
   "execution_count": 13,
   "id": "054e3186",
   "metadata": {},
   "outputs": [
    {
     "name": "stderr",
     "output_type": "stream",
     "text": [
      "C:\\Users\\Ananya\\AppData\\Local\\Temp\\ipykernel_11908\\1094421723.py:3: FutureWarning: \n",
      "\n",
      "Passing `palette` without assigning `hue` is deprecated and will be removed in v0.14.0. Assign the `x` variable to `hue` and set `legend=False` for the same effect.\n",
      "\n",
      "  sns.barplot(x='Brand',y='AccelSec',data=ev,palette='coolwarm')\n"
     ]
    },
    {
     "data": {
      "text/plain": [
       "([0,\n",
       "  1,\n",
       "  2,\n",
       "  3,\n",
       "  4,\n",
       "  5,\n",
       "  6,\n",
       "  7,\n",
       "  8,\n",
       "  9,\n",
       "  10,\n",
       "  11,\n",
       "  12,\n",
       "  13,\n",
       "  14,\n",
       "  15,\n",
       "  16,\n",
       "  17,\n",
       "  18,\n",
       "  19,\n",
       "  20,\n",
       "  21,\n",
       "  22,\n",
       "  23,\n",
       "  24,\n",
       "  25,\n",
       "  26,\n",
       "  27,\n",
       "  28,\n",
       "  29,\n",
       "  30,\n",
       "  31,\n",
       "  32],\n",
       " [Text(0, 0, 'Tesla '),\n",
       "  Text(1, 0, 'Volkswagen '),\n",
       "  Text(2, 0, 'Polestar '),\n",
       "  Text(3, 0, 'BMW '),\n",
       "  Text(4, 0, 'Honda '),\n",
       "  Text(5, 0, 'Lucid '),\n",
       "  Text(6, 0, 'Peugeot '),\n",
       "  Text(7, 0, 'Audi '),\n",
       "  Text(8, 0, 'Mercedes '),\n",
       "  Text(9, 0, 'Nissan '),\n",
       "  Text(10, 0, 'Hyundai '),\n",
       "  Text(11, 0, 'Porsche '),\n",
       "  Text(12, 0, 'MG '),\n",
       "  Text(13, 0, 'Mini '),\n",
       "  Text(14, 0, 'Opel '),\n",
       "  Text(15, 0, 'Skoda '),\n",
       "  Text(16, 0, 'Volvo '),\n",
       "  Text(17, 0, 'Kia '),\n",
       "  Text(18, 0, 'Renault '),\n",
       "  Text(19, 0, 'Mazda '),\n",
       "  Text(20, 0, 'Lexus '),\n",
       "  Text(21, 0, 'CUPRA '),\n",
       "  Text(22, 0, 'SEAT '),\n",
       "  Text(23, 0, 'Lightyear '),\n",
       "  Text(24, 0, 'Aiways '),\n",
       "  Text(25, 0, 'DS '),\n",
       "  Text(26, 0, 'Citroen '),\n",
       "  Text(27, 0, 'Jaguar '),\n",
       "  Text(28, 0, 'Ford '),\n",
       "  Text(29, 0, 'Byton '),\n",
       "  Text(30, 0, 'Sono '),\n",
       "  Text(31, 0, 'Smart '),\n",
       "  Text(32, 0, 'Fiat ')])"
      ]
     },
     "execution_count": 13,
     "metadata": {},
     "output_type": "execute_result"
    },
    {
     "data": {
      "image/png": "[encoded data removed]",
      "text/plain": [
       "<Figure size 2000x500 with 1 Axes>"
      ]
     },
     "metadata": {},
     "output_type": "display_data"
    }
   ],
   "source": [
    "#Analysis acceleration by EV Brand\n",
    "ax= plt.figure(figsize=(20,5))\n",
    "sns.barplot(x='Brand',y='AccelSec',data=ev,palette='coolwarm')\n",
    "plt.grid(axis='y')\n",
    "plt.title('Electric Vehicle Acceleration VS EV Brand')\n",
    "plt.xlabel('Brand')\n",
    "plt.ylabel('AccelSec')\n",
    "plt.xticks(rotation=45)"
   ]
  },
  {
   "cell_type": "code",
   "execution_count": 14,
   "id": "42e54ca7",
   "metadata": {},
   "outputs": [
    {
     "data": {
      "text/html": [
       "<div>\n",
       "<style scoped>\n",
       "    .dataframe tbody tr th:only-of-type {\n",
       "        vertical-align: middle;\n",
       "    }\n",
       "\n",
       "    .dataframe tbody tr th {\n",
       "        vertical-align: top;\n",
       "    }\n",
       "\n",
       "    .dataframe thead th {\n",
       "        text-align: right;\n",
       "    }\n",
       "</style>\n",
       "<table border=\"1\" class=\"dataframe\">\n",
       "  <thead>\n",
       "    <tr style=\"text-align: right;\">\n",
       "      <th></th>\n",
       "      <th>Brand</th>\n",
       "      <th>Model</th>\n",
       "      <th>AccelSec</th>\n",
       "    </tr>\n",
       "  </thead>\n",
       "  <tbody>\n",
       "    <tr>\n",
       "      <th>51</th>\n",
       "      <td>Tesla</td>\n",
       "      <td>Roadster</td>\n",
       "      <td>2.1</td>\n",
       "    </tr>\n",
       "  </tbody>\n",
       "</table>\n",
       "</div>"
      ],
      "text/plain": [
       "     Brand      Model  AccelSec\n",
       "51  Tesla   Roadster        2.1"
      ]
     },
     "execution_count": 14,
     "metadata": {},
     "output_type": "execute_result"
    }
   ],
   "source": [
    "df = ev.sort_values(by=['AccelSec'], ascending=True)\n",
    "df[['Brand','Model','AccelSec']].head(n=1)"
   ]
  },
  {
   "cell_type": "code",
   "execution_count": 15,
   "id": "ee6b57fc",
   "metadata": {},
   "outputs": [
    {
     "name": "stderr",
     "output_type": "stream",
     "text": [
      "C:\\Users\\Ananya\\AppData\\Local\\Temp\\ipykernel_11908\\3244926328.py:3: FutureWarning: \n",
      "\n",
      "Passing `palette` without assigning `hue` is deprecated and will be removed in v0.14.0. Assign the `x` variable to `hue` and set `legend=False` for the same effect.\n",
      "\n",
      "  sns.barplot(x='Brand',y='TopSpeed_KmH',data=ev,palette='husl')\n"
     ]
    },
    {
     "data": {
      "text/plain": [
       "([0,\n",
       "  1,\n",
       "  2,\n",
       "  3,\n",
       "  4,\n",
       "  5,\n",
       "  6,\n",
       "  7,\n",
       "  8,\n",
       "  9,\n",
       "  10,\n",
       "  11,\n",
       "  12,\n",
       "  13,\n",
       "  14,\n",
       "  15,\n",
       "  16,\n",
       "  17,\n",
       "  18,\n",
       "  19,\n",
       "  20,\n",
       "  21,\n",
       "  22,\n",
       "  23,\n",
       "  24,\n",
       "  25,\n",
       "  26,\n",
       "  27,\n",
       "  28,\n",
       "  29,\n",
       "  30,\n",
       "  31,\n",
       "  32],\n",
       " [Text(0, 0, 'Tesla '),\n",
       "  Text(1, 0, 'Volkswagen '),\n",
       "  Text(2, 0, 'Polestar '),\n",
       "  Text(3, 0, 'BMW '),\n",
       "  Text(4, 0, 'Honda '),\n",
       "  Text(5, 0, 'Lucid '),\n",
       "  Text(6, 0, 'Peugeot '),\n",
       "  Text(7, 0, 'Audi '),\n",
       "  Text(8, 0, 'Mercedes '),\n",
       "  Text(9, 0, 'Nissan '),\n",
       "  Text(10, 0, 'Hyundai '),\n",
       "  Text(11, 0, 'Porsche '),\n",
       "  Text(12, 0, 'MG '),\n",
       "  Text(13, 0, 'Mini '),\n",
       "  Text(14, 0, 'Opel '),\n",
       "  Text(15, 0, 'Skoda '),\n",
       "  Text(16, 0, 'Volvo '),\n",
       "  Text(17, 0, 'Kia '),\n",
       "  Text(18, 0, 'Renault '),\n",
       "  Text(19, 0, 'Mazda '),\n",
       "  Text(20, 0, 'Lexus '),\n",
       "  Text(21, 0, 'CUPRA '),\n",
       "  Text(22, 0, 'SEAT '),\n",
       "  Text(23, 0, 'Lightyear '),\n",
       "  Text(24, 0, 'Aiways '),\n",
       "  Text(25, 0, 'DS '),\n",
       "  Text(26, 0, 'Citroen '),\n",
       "  Text(27, 0, 'Jaguar '),\n",
       "  Text(28, 0, 'Ford '),\n",
       "  Text(29, 0, 'Byton '),\n",
       "  Text(30, 0, 'Sono '),\n",
       "  Text(31, 0, 'Smart '),\n",
       "  Text(32, 0, 'Fiat ')])"
      ]
     },
     "execution_count": 15,
     "metadata": {},
     "output_type": "execute_result"
    },
    {
     "data": {
      "image/png": "[encoded data removed]",
      "text/plain": [
       "<Figure size 2000x500 with 1 Axes>"
      ]
     },
     "metadata": {},
     "output_type": "display_data"
    }
   ],
   "source": [
    "#Analysis top speed by EV Brand\n",
    "ax= plt.figure(figsize=(20,5))\n",
    "sns.barplot(x='Brand',y='TopSpeed_KmH',data=ev,palette='husl')\n",
    "plt.grid(axis='y')\n",
    "plt.title('Electric Vehicle Top Speed VS EV Brand')\n",
    "plt.xlabel('Brand')\n",
    "plt.ylabel('TopSpeed_KmH')\n",
    "plt.xticks(rotation=45)"
   ]
  },
  {
   "cell_type": "code",
   "execution_count": 16,
   "id": "7af9567e",
   "metadata": {},
   "outputs": [
    {
     "data": {
      "text/html": [
       "<div>\n",
       "<style scoped>\n",
       "    .dataframe tbody tr th:only-of-type {\n",
       "        vertical-align: middle;\n",
       "    }\n",
       "\n",
       "    .dataframe tbody tr th {\n",
       "        vertical-align: top;\n",
       "    }\n",
       "\n",
       "    .dataframe thead th {\n",
       "        text-align: right;\n",
       "    }\n",
       "</style>\n",
       "<table border=\"1\" class=\"dataframe\">\n",
       "  <thead>\n",
       "    <tr style=\"text-align: right;\">\n",
       "      <th></th>\n",
       "      <th>Brand</th>\n",
       "      <th>Model</th>\n",
       "      <th>TopSpeed_KmH</th>\n",
       "    </tr>\n",
       "  </thead>\n",
       "  <tbody>\n",
       "    <tr>\n",
       "      <th>51</th>\n",
       "      <td>Tesla</td>\n",
       "      <td>Roadster</td>\n",
       "      <td>410</td>\n",
       "    </tr>\n",
       "  </tbody>\n",
       "</table>\n",
       "</div>"
      ],
      "text/plain": [
       "     Brand      Model  TopSpeed_KmH\n",
       "51  Tesla   Roadster            410"
      ]
     },
     "execution_count": 16,
     "metadata": {},
     "output_type": "execute_result"
    }
   ],
   "source": [
    "speed_df = ev.sort_values(by=['TopSpeed_KmH'], ascending=False)\n",
    "speed_df[['Brand','Model','TopSpeed_KmH']].head(n=1)"
   ]
  },
  {
   "cell_type": "code",
   "execution_count": 17,
   "id": "9cf408d5",
   "metadata": {},
   "outputs": [
    {
     "name": "stderr",
     "output_type": "stream",
     "text": [
      "C:\\Users\\Ananya\\AppData\\Local\\Temp\\ipykernel_11908\\3483158683.py:3: FutureWarning: \n",
      "\n",
      "Passing `palette` without assigning `hue` is deprecated and will be removed in v0.14.0. Assign the `x` variable to `hue` and set `legend=False` for the same effect.\n",
      "\n",
      "  sns.barplot(x='Brand',y='Efficiency_WhKm',data=ev,palette='Paired')\n"
     ]
    },
    {
     "data": {
      "text/plain": [
       "([0,\n",
       "  1,\n",
       "  2,\n",
       "  3,\n",
       "  4,\n",
       "  5,\n",
       "  6,\n",
       "  7,\n",
       "  8,\n",
       "  9,\n",
       "  10,\n",
       "  11,\n",
       "  12,\n",
       "  13,\n",
       "  14,\n",
       "  15,\n",
       "  16,\n",
       "  17,\n",
       "  18,\n",
       "  19,\n",
       "  20,\n",
       "  21,\n",
       "  22,\n",
       "  23,\n",
       "  24,\n",
       "  25,\n",
       "  26,\n",
       "  27,\n",
       "  28,\n",
       "  29,\n",
       "  30,\n",
       "  31,\n",
       "  32],\n",
       " [Text(0, 0, 'Tesla '),\n",
       "  Text(1, 0, 'Volkswagen '),\n",
       "  Text(2, 0, 'Polestar '),\n",
       "  Text(3, 0, 'BMW '),\n",
       "  Text(4, 0, 'Honda '),\n",
       "  Text(5, 0, 'Lucid '),\n",
       "  Text(6, 0, 'Peugeot '),\n",
       "  Text(7, 0, 'Audi '),\n",
       "  Text(8, 0, 'Mercedes '),\n",
       "  Text(9, 0, 'Nissan '),\n",
       "  Text(10, 0, 'Hyundai '),\n",
       "  Text(11, 0, 'Porsche '),\n",
       "  Text(12, 0, 'MG '),\n",
       "  Text(13, 0, 'Mini '),\n",
       "  Text(14, 0, 'Opel '),\n",
       "  Text(15, 0, 'Skoda '),\n",
       "  Text(16, 0, 'Volvo '),\n",
       "  Text(17, 0, 'Kia '),\n",
       "  Text(18, 0, 'Renault '),\n",
       "  Text(19, 0, 'Mazda '),\n",
       "  Text(20, 0, 'Lexus '),\n",
       "  Text(21, 0, 'CUPRA '),\n",
       "  Text(22, 0, 'SEAT '),\n",
       "  Text(23, 0, 'Lightyear '),\n",
       "  Text(24, 0, 'Aiways '),\n",
       "  Text(25, 0, 'DS '),\n",
       "  Text(26, 0, 'Citroen '),\n",
       "  Text(27, 0, 'Jaguar '),\n",
       "  Text(28, 0, 'Ford '),\n",
       "  Text(29, 0, 'Byton '),\n",
       "  Text(30, 0, 'Sono '),\n",
       "  Text(31, 0, 'Smart '),\n",
       "  Text(32, 0, 'Fiat ')])"
      ]
     },
     "execution_count": 17,
     "metadata": {},
     "output_type": "execute_result"
    },
    {
     "data": {
      "image/png": "[encoded data removed]",
      "text/plain": [
       "<Figure size 2000x500 with 1 Axes>"
      ]
     },
     "metadata": {},
     "output_type": "display_data"
    }
   ],
   "source": [
    "#Analysis efficiency by EV Brand\n",
    "ax= plt.figure(figsize=(20,5))\n",
    "sns.barplot(x='Brand',y='Efficiency_WhKm',data=ev,palette='Paired')\n",
    "plt.grid(axis='y')\n",
    "plt.title('Electric Vehicle efficiency VS EV Brand')\n",
    "plt.xlabel('Brand')\n",
    "plt.ylabel('Efficiency_WhKm')\n",
    "plt.xticks(rotation=45)"
   ]
  },
  {
   "cell_type": "code",
   "execution_count": 18,
   "id": "58f5ac97",
   "metadata": {},
   "outputs": [
    {
     "data": {
      "text/html": [
       "<div>\n",
       "<style scoped>\n",
       "    .dataframe tbody tr th:only-of-type {\n",
       "        vertical-align: middle;\n",
       "    }\n",
       "\n",
       "    .dataframe tbody tr th {\n",
       "        vertical-align: top;\n",
       "    }\n",
       "\n",
       "    .dataframe thead th {\n",
       "        text-align: right;\n",
       "    }\n",
       "</style>\n",
       "<table border=\"1\" class=\"dataframe\">\n",
       "  <thead>\n",
       "    <tr style=\"text-align: right;\">\n",
       "      <th></th>\n",
       "      <th>Brand</th>\n",
       "      <th>Model</th>\n",
       "      <th>Efficiency_WhKm</th>\n",
       "    </tr>\n",
       "  </thead>\n",
       "  <tbody>\n",
       "    <tr>\n",
       "      <th>84</th>\n",
       "      <td>Mercedes</td>\n",
       "      <td>EQV 300 Long</td>\n",
       "      <td>273</td>\n",
       "    </tr>\n",
       "  </tbody>\n",
       "</table>\n",
       "</div>"
      ],
      "text/plain": [
       "        Brand         Model  Efficiency_WhKm\n",
       "84  Mercedes   EQV 300 Long              273"
      ]
     },
     "execution_count": 18,
     "metadata": {},
     "output_type": "execute_result"
    }
   ],
   "source": [
    "eff_df = ev.sort_values(by=['Efficiency_WhKm'], ascending=False)\n",
    "eff_df[['Brand','Model','Efficiency_WhKm']].head(n=1)"
   ]
  },
  {
   "cell_type": "code",
   "execution_count": 19,
   "id": "b8cf6c75",
   "metadata": {},
   "outputs": [
    {
     "data": {
      "text/html": [
       "<div>\n",
       "<style scoped>\n",
       "    .dataframe tbody tr th:only-of-type {\n",
       "        vertical-align: middle;\n",
       "    }\n",
       "\n",
       "    .dataframe tbody tr th {\n",
       "        vertical-align: top;\n",
       "    }\n",
       "\n",
       "    .dataframe thead th {\n",
       "        text-align: right;\n",
       "    }\n",
       "</style>\n",
       "<table border=\"1\" class=\"dataframe\">\n",
       "  <thead>\n",
       "    <tr style=\"text-align: right;\">\n",
       "      <th></th>\n",
       "      <th>Brand</th>\n",
       "      <th>Model</th>\n",
       "      <th>Range_Km</th>\n",
       "      <th>Seats</th>\n",
       "    </tr>\n",
       "  </thead>\n",
       "  <tbody>\n",
       "    <tr>\n",
       "      <th>21</th>\n",
       "      <td>Tesla</td>\n",
       "      <td>Model Y Long Range Dual Motor</td>\n",
       "      <td>425</td>\n",
       "      <td>7</td>\n",
       "    </tr>\n",
       "  </tbody>\n",
       "</table>\n",
       "</div>"
      ],
      "text/plain": [
       "     Brand                          Model  Range_Km  Seats\n",
       "21  Tesla   Model Y Long Range Dual Motor       425      7"
      ]
     },
     "execution_count": 19,
     "metadata": {},
     "output_type": "execute_result"
    }
   ],
   "source": [
    "seat_df = ev.sort_values(by=['Seats'], ascending=False)\n",
    "seat_df[['Brand','Model','Range_Km', 'Seats']].head(n=1)"
   ]
  },
  {
   "cell_type": "code",
   "execution_count": 20,
   "id": "47515cfc",
   "metadata": {},
   "outputs": [
    {
     "data": {
      "image/png": "[encoded data removed]",
      "text/plain": [
       "<Figure size 500x500 with 1 Axes>"
      ]
     },
     "metadata": {},
     "output_type": "display_data"
    }
   ],
   "source": [
    "##Distribution of range with PowerTrain\n",
    "fig, axs = plt.subplots(1,2)\n",
    "sns.catplot(x=\"AccelSec\", y=\"Range_Km\", data=ev)\n",
    "plt.close(1)"
   ]
  },
  {
   "cell_type": "code",
   "execution_count": 21,
   "id": "130570e4",
   "metadata": {},
   "outputs": [
    {
     "data": {
      "text/plain": [
       "Index(['Brand', 'Model', 'AccelSec', 'TopSpeed_KmH', 'Range_Km',\n",
       "       'Efficiency_WhKm', 'FastCharge_KmH', 'RapidCharge', 'PowerTrain',\n",
       "       'PlugType', 'BodyStyle', 'Segment', 'Seats', 'PriceEuro'],\n",
       "      dtype='object')"
      ]
     },
     "execution_count": 21,
     "metadata": {},
     "output_type": "execute_result"
    }
   ],
   "source": [
    "ev.columns"
   ]
  },
  {
   "cell_type": "code",
   "execution_count": 22,
   "id": "a95f5985",
   "metadata": {},
   "outputs": [],
   "source": [
    "ev1 = ev[['Brand', 'Model', 'PowerTrain', 'RapidCharge', 'PlugType', 'BodyStyle', 'Segment']]"
   ]
  },
  {
   "cell_type": "code",
   "execution_count": 23,
   "id": "a1b2a7d2",
   "metadata": {},
   "outputs": [
    {
     "name": "stdout",
     "output_type": "stream",
     "text": [
      "           Brand                            Model PowerTrain RapidCharge  \\\n",
      "0         Tesla     Model 3 Long Range Dual Motor        AWD         Yes   \n",
      "1    Volkswagen                         ID.3 Pure        RWD         Yes   \n",
      "2      Polestar                                 2        AWD         Yes   \n",
      "3           BMW                              iX3         RWD         Yes   \n",
      "4         Honda                                e         RWD         Yes   \n",
      "..           ...                              ...        ...         ...   \n",
      "98       Nissan                       Ariya 63kWh        FWD         Yes   \n",
      "99         Audi     e-tron S Sportback 55 quattro        AWD         Yes   \n",
      "100      Nissan               Ariya e-4ORCE 63kWh        AWD         Yes   \n",
      "101      Nissan   Ariya e-4ORCE 87kWh Performance        AWD         Yes   \n",
      "102       Byton                 M-Byte 95 kWh 2WD        AWD         Yes   \n",
      "\n",
      "       PlugType  BodyStyle Segment  \n",
      "0    Type 2 CCS      Sedan       D  \n",
      "1    Type 2 CCS  Hatchback       C  \n",
      "2    Type 2 CCS   Liftback       D  \n",
      "3    Type 2 CCS        SUV       D  \n",
      "4    Type 2 CCS  Hatchback       B  \n",
      "..          ...        ...     ...  \n",
      "98   Type 2 CCS  Hatchback       C  \n",
      "99   Type 2 CCS        SUV       E  \n",
      "100  Type 2 CCS  Hatchback       C  \n",
      "101  Type 2 CCS  Hatchback       C  \n",
      "102  Type 2 CCS        SUV       E  \n",
      "\n",
      "[103 rows x 7 columns]\n",
      "[[ 30.  46.   0.   1.   2.   7.   3.]\n",
      " [ 31.  33.   2.   1.   2.   1.   2.]\n",
      " [ 23.   0.   0.   1.   2.   2.   3.]\n",
      " [  2. 101.   2.   1.   2.   6.   3.]\n",
      " [  9.  78.   2.   1.   2.   1.   1.]\n",
      " [ 15.   4.   0.   1.   2.   7.   5.]\n",
      " [ 31.  83.   1.   1.   2.   1.   2.]\n",
      " [ 22.  81.   1.   1.   2.   1.   1.]\n",
      " [ 30.  48.   2.   1.   2.   7.   3.]\n",
      " [  1.  62.   0.   1.   2.   6.   3.]\n",
      " [ 18.  21.   0.   1.   2.   6.   3.]\n",
      " [ 20.  39.   1.   1.   3.   1.   2.]\n",
      " [ 10.  38.   1.   1.   2.   6.   1.]\n",
      " [  2. 100.   2.   1.   2.   7.   3.]\n",
      " [ 10.  35.   1.   1.   2.   2.   2.]\n",
      " [ 31.  32.   2.   1.   2.   1.   2.]\n",
      " [ 24.  69.   0.   1.   2.   7.   5.]\n",
      " [ 31.  89.   1.   1.   2.   1.   0.]\n",
      " [ 16.  74.   1.   1.   2.   6.   1.]\n",
      " [ 19.  12.   1.   1.   2.   1.   1.]\n",
      " [ 21.  13.   1.   1.   2.   1.   1.]\n",
      " [ 30.  53.   0.   1.   2.   6.   3.]\n",
      " [ 27.  23.   2.   1.   2.   6.   2.]\n",
      " [  1.  92.   0.   1.   2.   7.   5.]\n",
      " [ 30.  47.   0.   1.   2.   7.   3.]\n",
      " [ 31.  34.   2.   1.   2.   6.   2.]\n",
      " [ 31.  30.   2.   1.   2.   1.   2.]\n",
      " [ 32.  73.   0.   1.   2.   6.   2.]\n",
      " [  2.  98.   2.   1.   2.   1.   1.]\n",
      " [ 22.  80.   1.   1.   2.   6.   1.]\n",
      " [  1.  90.   0.   1.   2.   6.   4.]\n",
      " [ 12.  86.   1.   1.   2.   6.   2.]\n",
      " [ 25.  76.   1.   1.   2.   1.   1.]\n",
      " [ 30.  16.   0.   1.   2.   4.   6.]\n",
      " [ 17.  44.   1.   1.   2.   6.   2.]\n",
      " [ 20.  40.   1.   1.   3.   1.   2.]\n",
      " [ 13.  72.   1.   1.   3.   6.   2.]\n",
      " [  4.  97.   2.   1.   2.   1.   2.]\n",
      " [ 25.  77.   1.   1.   2.   1.   1.]\n",
      " [ 18.  20.   0.   1.   2.   6.   2.]\n",
      " [ 30.  49.   0.   1.   1.   2.   5.]\n",
      " [ 10.  37.   1.   1.   2.   6.   1.]\n",
      " [  1.  96.   0.   1.   2.   6.   4.]\n",
      " [ 27.  11.   1.   1.   2.   1.   0.]\n",
      " [ 26.  45.   1.   1.   2.   1.   0.]\n",
      " [ 12.  88.   1.   1.   2.   6.   1.]\n",
      " [ 21.   5.   1.   1.   2.   3.   1.]\n",
      " [ 24.  65.   0.   1.   2.   7.   5.]\n",
      " [ 14.  60.   0.   1.   2.   2.   5.]\n",
      " [  0.  71.   1.   1.   2.   6.   2.]\n",
      " [  1.  91.   0.   1.   2.   6.   4.]\n",
      " [ 30.  63.   0.   1.   2.   0.   7.]\n",
      " [ 21.  55.   1.   1.   2.   6.   1.]\n",
      " [ 27.  25.   2.   1.   2.   6.   2.]\n",
      " [ 30.  51.   0.   1.   1.   6.   5.]\n",
      " [  9.  79.   2.   1.   2.   1.   1.]\n",
      " [  6.   1.   1.   1.   2.   6.   1.]\n",
      " [ 25.  70.   2.   0.   1.   1.   0.]\n",
      " [  5.  82.   1.   1.   2.   6.   2.]\n",
      " [ 30.  50.   0.   1.   1.   2.   5.]\n",
      " [ 25.  75.   1.   1.   2.   1.   1.]\n",
      " [ 30.  54.   0.   1.   2.   6.   3.]\n",
      " [ 20.   7.   1.   1.   2.   1.   2.]\n",
      " [ 11.  28.   0.   1.   2.   6.   4.]\n",
      " [  8.  57.   2.   1.   2.   6.   3.]\n",
      " [ 24.  66.   0.   1.   2.   7.   5.]\n",
      " [ 20.  84.   1.   1.   0.   5.   6.]\n",
      " [ 30.  14.   0.   1.   2.   4.   6.]\n",
      " [ 25.  36.   1.   0.   1.   5.   6.]\n",
      " [  8.  56.   0.   1.   2.   6.   3.]\n",
      " [  2.  99.   2.   1.   2.   1.   1.]\n",
      " [ 27.  26.   0.   1.   2.   6.   2.]\n",
      " [ 24.  67.   0.   1.   2.   8.   5.]\n",
      " [  3.  43.   0.   1.   2.   6.   4.]\n",
      " [ 29.  64.   1.   1.   2.   1.   2.]\n",
      " [ 12.  85.   1.   1.   2.   6.   2.]\n",
      " [  1.  61.   0.   1.   2.   6.   3.]\n",
      " [ 28.  17.   2.   0.   1.   1.   0.]\n",
      " [  8.  58.   0.   1.   2.   6.   3.]\n",
      " [ 24.  68.   0.   1.   2.   7.   5.]\n",
      " [ 31.  29.   2.   1.   2.   1.   2.]\n",
      " [ 30.  52.   0.   1.   1.   6.   5.]\n",
      " [ 28.  19.   2.   0.   1.   1.   0.]\n",
      " [  8.  59.   2.   1.   2.   6.   3.]\n",
      " [ 18.  22.   1.   1.   2.   5.   6.]\n",
      " [  7.   3.   1.   1.   2.   1.   1.]\n",
      " [ 30.  15.   2.   1.   2.   4.   6.]\n",
      " [  1.  95.   0.   1.   2.   6.   4.]\n",
      " [ 27.  27.   0.   1.   2.   6.   2.]\n",
      " [ 27.  24.   2.   1.   2.   6.   2.]\n",
      " [  1.  93.   0.   1.   2.   6.   4.]\n",
      " [ 28.  18.   2.   0.   1.   0.   0.]\n",
      " [ 12.  88.   1.   1.   2.   6.   1.]\n",
      " [ 20.   9.   0.   1.   2.   1.   2.]\n",
      " [  7.   2.   1.   1.   2.   0.   1.]\n",
      " [ 31.  31.   2.   1.   2.   1.   2.]\n",
      " [ 12.  87.   1.   1.   2.   6.   1.]\n",
      " [  3.  41.   2.   1.   2.   6.   4.]\n",
      " [ 20.   6.   1.   1.   2.   1.   2.]\n",
      " [  1.  94.   0.   1.   2.   6.   4.]\n",
      " [ 20.   8.   0.   1.   2.   1.   2.]\n",
      " [ 20.  10.   0.   1.   2.   1.   2.]\n",
      " [  3.  42.   0.   1.   2.   6.   4.]]\n"
     ]
    }
   ],
   "source": [
    "print(ev1)\n",
    "\n",
    "encoder = OrdinalEncoder()\n",
    "\n",
    "result = encoder.fit_transform(ev1)\n",
    "print(result)"
   ]
  },
  {
   "cell_type": "code",
   "execution_count": 24,
   "id": "5ea72c5a",
   "metadata": {},
   "outputs": [],
   "source": [
    "temp = ['Brand', 'Model', 'PowerTrain', 'RapidCharge', 'PlugType', 'BodyStyle', 'Segment']"
   ]
  },
  {
   "cell_type": "code",
   "execution_count": 25,
   "id": "7a34b084",
   "metadata": {},
   "outputs": [],
   "source": [
    "ev.drop(temp,axis=1,inplace=True)\n",
    "result = pd.DataFrame(result)"
   ]
  },
  {
   "cell_type": "code",
   "execution_count": 26,
   "id": "15165008",
   "metadata": {},
   "outputs": [
    {
     "data": {
      "text/html": [
       "<div>\n",
       "<style scoped>\n",
       "    .dataframe tbody tr th:only-of-type {\n",
       "        vertical-align: middle;\n",
       "    }\n",
       "\n",
       "    .dataframe tbody tr th {\n",
       "        vertical-align: top;\n",
       "    }\n",
       "\n",
       "    .dataframe thead th {\n",
       "        text-align: right;\n",
       "    }\n",
       "</style>\n",
       "<table border=\"1\" class=\"dataframe\">\n",
       "  <thead>\n",
       "    <tr style=\"text-align: right;\">\n",
       "      <th></th>\n",
       "      <th>Brand</th>\n",
       "      <th>Model</th>\n",
       "      <th>PowerTrain</th>\n",
       "      <th>RapidCharge</th>\n",
       "      <th>PlugType</th>\n",
       "      <th>BodyStyle</th>\n",
       "      <th>Segment</th>\n",
       "    </tr>\n",
       "  </thead>\n",
       "  <tbody>\n",
       "    <tr>\n",
       "      <th>1</th>\n",
       "      <td>30.0</td>\n",
       "      <td>46.0</td>\n",
       "      <td>0.0</td>\n",
       "      <td>1.0</td>\n",
       "      <td>2.0</td>\n",
       "      <td>7.0</td>\n",
       "      <td>3.0</td>\n",
       "    </tr>\n",
       "    <tr>\n",
       "      <th>2</th>\n",
       "      <td>31.0</td>\n",
       "      <td>33.0</td>\n",
       "      <td>2.0</td>\n",
       "      <td>1.0</td>\n",
       "      <td>2.0</td>\n",
       "      <td>1.0</td>\n",
       "      <td>2.0</td>\n",
       "    </tr>\n",
       "    <tr>\n",
       "      <th>3</th>\n",
       "      <td>23.0</td>\n",
       "      <td>0.0</td>\n",
       "      <td>0.0</td>\n",
       "      <td>1.0</td>\n",
       "      <td>2.0</td>\n",
       "      <td>2.0</td>\n",
       "      <td>3.0</td>\n",
       "    </tr>\n",
       "    <tr>\n",
       "      <th>4</th>\n",
       "      <td>2.0</td>\n",
       "      <td>101.0</td>\n",
       "      <td>2.0</td>\n",
       "      <td>1.0</td>\n",
       "      <td>2.0</td>\n",
       "      <td>6.0</td>\n",
       "      <td>3.0</td>\n",
       "    </tr>\n",
       "    <tr>\n",
       "      <th>5</th>\n",
       "      <td>9.0</td>\n",
       "      <td>78.0</td>\n",
       "      <td>2.0</td>\n",
       "      <td>1.0</td>\n",
       "      <td>2.0</td>\n",
       "      <td>1.0</td>\n",
       "      <td>1.0</td>\n",
       "    </tr>\n",
       "    <tr>\n",
       "      <th>...</th>\n",
       "      <td>...</td>\n",
       "      <td>...</td>\n",
       "      <td>...</td>\n",
       "      <td>...</td>\n",
       "      <td>...</td>\n",
       "      <td>...</td>\n",
       "      <td>...</td>\n",
       "    </tr>\n",
       "    <tr>\n",
       "      <th>99</th>\n",
       "      <td>20.0</td>\n",
       "      <td>6.0</td>\n",
       "      <td>1.0</td>\n",
       "      <td>1.0</td>\n",
       "      <td>2.0</td>\n",
       "      <td>1.0</td>\n",
       "      <td>2.0</td>\n",
       "    </tr>\n",
       "    <tr>\n",
       "      <th>100</th>\n",
       "      <td>1.0</td>\n",
       "      <td>94.0</td>\n",
       "      <td>0.0</td>\n",
       "      <td>1.0</td>\n",
       "      <td>2.0</td>\n",
       "      <td>6.0</td>\n",
       "      <td>4.0</td>\n",
       "    </tr>\n",
       "    <tr>\n",
       "      <th>101</th>\n",
       "      <td>20.0</td>\n",
       "      <td>8.0</td>\n",
       "      <td>0.0</td>\n",
       "      <td>1.0</td>\n",
       "      <td>2.0</td>\n",
       "      <td>1.0</td>\n",
       "      <td>2.0</td>\n",
       "    </tr>\n",
       "    <tr>\n",
       "      <th>102</th>\n",
       "      <td>20.0</td>\n",
       "      <td>10.0</td>\n",
       "      <td>0.0</td>\n",
       "      <td>1.0</td>\n",
       "      <td>2.0</td>\n",
       "      <td>1.0</td>\n",
       "      <td>2.0</td>\n",
       "    </tr>\n",
       "    <tr>\n",
       "      <th>103</th>\n",
       "      <td>3.0</td>\n",
       "      <td>42.0</td>\n",
       "      <td>0.0</td>\n",
       "      <td>1.0</td>\n",
       "      <td>2.0</td>\n",
       "      <td>6.0</td>\n",
       "      <td>4.0</td>\n",
       "    </tr>\n",
       "  </tbody>\n",
       "</table>\n",
       "<p>103 rows × 7 columns</p>\n",
       "</div>"
      ],
      "text/plain": [
       "     Brand  Model  PowerTrain  RapidCharge  PlugType  BodyStyle  Segment\n",
       "1     30.0   46.0         0.0          1.0       2.0        7.0      3.0\n",
       "2     31.0   33.0         2.0          1.0       2.0        1.0      2.0\n",
       "3     23.0    0.0         0.0          1.0       2.0        2.0      3.0\n",
       "4      2.0  101.0         2.0          1.0       2.0        6.0      3.0\n",
       "5      9.0   78.0         2.0          1.0       2.0        1.0      1.0\n",
       "..     ...    ...         ...          ...       ...        ...      ...\n",
       "99    20.0    6.0         1.0          1.0       2.0        1.0      2.0\n",
       "100    1.0   94.0         0.0          1.0       2.0        6.0      4.0\n",
       "101   20.0    8.0         0.0          1.0       2.0        1.0      2.0\n",
       "102   20.0   10.0         0.0          1.0       2.0        1.0      2.0\n",
       "103    3.0   42.0         0.0          1.0       2.0        6.0      4.0\n",
       "\n",
       "[103 rows x 7 columns]"
      ]
     },
     "execution_count": 26,
     "metadata": {},
     "output_type": "execute_result"
    }
   ],
   "source": [
    "result.columns=[\"Brand\", \"Model\", \"PowerTrain\", 'RapidCharge', \"PlugType\", \"BodyStyle\", \"Segment\"]\n",
    "result.index+=1\n",
    "result"
   ]
  },
  {
   "cell_type": "code",
   "execution_count": 27,
   "id": "deb252a0",
   "metadata": {},
   "outputs": [
    {
     "data": {
      "text/html": [
       "<div>\n",
       "<style scoped>\n",
       "    .dataframe tbody tr th:only-of-type {\n",
       "        vertical-align: middle;\n",
       "    }\n",
       "\n",
       "    .dataframe tbody tr th {\n",
       "        vertical-align: top;\n",
       "    }\n",
       "\n",
       "    .dataframe thead th {\n",
       "        text-align: right;\n",
       "    }\n",
       "</style>\n",
       "<table border=\"1\" class=\"dataframe\">\n",
       "  <thead>\n",
       "    <tr style=\"text-align: right;\">\n",
       "      <th></th>\n",
       "      <th>AccelSec</th>\n",
       "      <th>TopSpeed_KmH</th>\n",
       "      <th>Range_Km</th>\n",
       "      <th>Efficiency_WhKm</th>\n",
       "      <th>FastCharge_KmH</th>\n",
       "      <th>Seats</th>\n",
       "      <th>PriceEuro</th>\n",
       "      <th>Brand</th>\n",
       "      <th>Model</th>\n",
       "      <th>PowerTrain</th>\n",
       "      <th>RapidCharge</th>\n",
       "      <th>PlugType</th>\n",
       "      <th>BodyStyle</th>\n",
       "      <th>Segment</th>\n",
       "    </tr>\n",
       "  </thead>\n",
       "  <tbody>\n",
       "    <tr>\n",
       "      <th>1</th>\n",
       "      <td>4.6</td>\n",
       "      <td>233</td>\n",
       "      <td>450</td>\n",
       "      <td>161</td>\n",
       "      <td>940</td>\n",
       "      <td>5</td>\n",
       "      <td>55480</td>\n",
       "      <td>30.0</td>\n",
       "      <td>46.0</td>\n",
       "      <td>0.0</td>\n",
       "      <td>1.0</td>\n",
       "      <td>2.0</td>\n",
       "      <td>7.0</td>\n",
       "      <td>3.0</td>\n",
       "    </tr>\n",
       "    <tr>\n",
       "      <th>2</th>\n",
       "      <td>10.0</td>\n",
       "      <td>160</td>\n",
       "      <td>270</td>\n",
       "      <td>167</td>\n",
       "      <td>250</td>\n",
       "      <td>5</td>\n",
       "      <td>30000</td>\n",
       "      <td>31.0</td>\n",
       "      <td>33.0</td>\n",
       "      <td>2.0</td>\n",
       "      <td>1.0</td>\n",
       "      <td>2.0</td>\n",
       "      <td>1.0</td>\n",
       "      <td>2.0</td>\n",
       "    </tr>\n",
       "    <tr>\n",
       "      <th>3</th>\n",
       "      <td>4.7</td>\n",
       "      <td>210</td>\n",
       "      <td>400</td>\n",
       "      <td>181</td>\n",
       "      <td>620</td>\n",
       "      <td>5</td>\n",
       "      <td>56440</td>\n",
       "      <td>23.0</td>\n",
       "      <td>0.0</td>\n",
       "      <td>0.0</td>\n",
       "      <td>1.0</td>\n",
       "      <td>2.0</td>\n",
       "      <td>2.0</td>\n",
       "      <td>3.0</td>\n",
       "    </tr>\n",
       "    <tr>\n",
       "      <th>4</th>\n",
       "      <td>6.8</td>\n",
       "      <td>180</td>\n",
       "      <td>360</td>\n",
       "      <td>206</td>\n",
       "      <td>560</td>\n",
       "      <td>5</td>\n",
       "      <td>68040</td>\n",
       "      <td>2.0</td>\n",
       "      <td>101.0</td>\n",
       "      <td>2.0</td>\n",
       "      <td>1.0</td>\n",
       "      <td>2.0</td>\n",
       "      <td>6.0</td>\n",
       "      <td>3.0</td>\n",
       "    </tr>\n",
       "    <tr>\n",
       "      <th>5</th>\n",
       "      <td>9.5</td>\n",
       "      <td>145</td>\n",
       "      <td>170</td>\n",
       "      <td>168</td>\n",
       "      <td>190</td>\n",
       "      <td>4</td>\n",
       "      <td>32997</td>\n",
       "      <td>9.0</td>\n",
       "      <td>78.0</td>\n",
       "      <td>2.0</td>\n",
       "      <td>1.0</td>\n",
       "      <td>2.0</td>\n",
       "      <td>1.0</td>\n",
       "      <td>1.0</td>\n",
       "    </tr>\n",
       "    <tr>\n",
       "      <th>...</th>\n",
       "      <td>...</td>\n",
       "      <td>...</td>\n",
       "      <td>...</td>\n",
       "      <td>...</td>\n",
       "      <td>...</td>\n",
       "      <td>...</td>\n",
       "      <td>...</td>\n",
       "      <td>...</td>\n",
       "      <td>...</td>\n",
       "      <td>...</td>\n",
       "      <td>...</td>\n",
       "      <td>...</td>\n",
       "      <td>...</td>\n",
       "      <td>...</td>\n",
       "    </tr>\n",
       "    <tr>\n",
       "      <th>99</th>\n",
       "      <td>7.5</td>\n",
       "      <td>160</td>\n",
       "      <td>330</td>\n",
       "      <td>191</td>\n",
       "      <td>440</td>\n",
       "      <td>5</td>\n",
       "      <td>45000</td>\n",
       "      <td>20.0</td>\n",
       "      <td>6.0</td>\n",
       "      <td>1.0</td>\n",
       "      <td>1.0</td>\n",
       "      <td>2.0</td>\n",
       "      <td>1.0</td>\n",
       "      <td>2.0</td>\n",
       "    </tr>\n",
       "    <tr>\n",
       "      <th>100</th>\n",
       "      <td>4.5</td>\n",
       "      <td>210</td>\n",
       "      <td>335</td>\n",
       "      <td>258</td>\n",
       "      <td>540</td>\n",
       "      <td>5</td>\n",
       "      <td>96050</td>\n",
       "      <td>1.0</td>\n",
       "      <td>94.0</td>\n",
       "      <td>0.0</td>\n",
       "      <td>1.0</td>\n",
       "      <td>2.0</td>\n",
       "      <td>6.0</td>\n",
       "      <td>4.0</td>\n",
       "    </tr>\n",
       "    <tr>\n",
       "      <th>101</th>\n",
       "      <td>5.9</td>\n",
       "      <td>200</td>\n",
       "      <td>325</td>\n",
       "      <td>194</td>\n",
       "      <td>440</td>\n",
       "      <td>5</td>\n",
       "      <td>50000</td>\n",
       "      <td>20.0</td>\n",
       "      <td>8.0</td>\n",
       "      <td>0.0</td>\n",
       "      <td>1.0</td>\n",
       "      <td>2.0</td>\n",
       "      <td>1.0</td>\n",
       "      <td>2.0</td>\n",
       "    </tr>\n",
       "    <tr>\n",
       "      <th>102</th>\n",
       "      <td>5.1</td>\n",
       "      <td>200</td>\n",
       "      <td>375</td>\n",
       "      <td>232</td>\n",
       "      <td>450</td>\n",
       "      <td>5</td>\n",
       "      <td>65000</td>\n",
       "      <td>20.0</td>\n",
       "      <td>10.0</td>\n",
       "      <td>0.0</td>\n",
       "      <td>1.0</td>\n",
       "      <td>2.0</td>\n",
       "      <td>1.0</td>\n",
       "      <td>2.0</td>\n",
       "    </tr>\n",
       "    <tr>\n",
       "      <th>103</th>\n",
       "      <td>7.5</td>\n",
       "      <td>190</td>\n",
       "      <td>400</td>\n",
       "      <td>238</td>\n",
       "      <td>480</td>\n",
       "      <td>5</td>\n",
       "      <td>62000</td>\n",
       "      <td>3.0</td>\n",
       "      <td>42.0</td>\n",
       "      <td>0.0</td>\n",
       "      <td>1.0</td>\n",
       "      <td>2.0</td>\n",
       "      <td>6.0</td>\n",
       "      <td>4.0</td>\n",
       "    </tr>\n",
       "  </tbody>\n",
       "</table>\n",
       "<p>103 rows × 14 columns</p>\n",
       "</div>"
      ],
      "text/plain": [
       "     AccelSec  TopSpeed_KmH  Range_Km  Efficiency_WhKm FastCharge_KmH  Seats  \\\n",
       "1         4.6           233       450              161            940      5   \n",
       "2        10.0           160       270              167            250      5   \n",
       "3         4.7           210       400              181            620      5   \n",
       "4         6.8           180       360              206            560      5   \n",
       "5         9.5           145       170              168            190      4   \n",
       "..        ...           ...       ...              ...            ...    ...   \n",
       "99        7.5           160       330              191            440      5   \n",
       "100       4.5           210       335              258            540      5   \n",
       "101       5.9           200       325              194            440      5   \n",
       "102       5.1           200       375              232            450      5   \n",
       "103       7.5           190       400              238            480      5   \n",
       "\n",
       "     PriceEuro  Brand  Model  PowerTrain  RapidCharge  PlugType  BodyStyle  \\\n",
       "1        55480   30.0   46.0         0.0          1.0       2.0        7.0   \n",
       "2        30000   31.0   33.0         2.0          1.0       2.0        1.0   \n",
       "3        56440   23.0    0.0         0.0          1.0       2.0        2.0   \n",
       "4        68040    2.0  101.0         2.0          1.0       2.0        6.0   \n",
       "5        32997    9.0   78.0         2.0          1.0       2.0        1.0   \n",
       "..         ...    ...    ...         ...          ...       ...        ...   \n",
       "99       45000   20.0    6.0         1.0          1.0       2.0        1.0   \n",
       "100      96050    1.0   94.0         0.0          1.0       2.0        6.0   \n",
       "101      50000   20.0    8.0         0.0          1.0       2.0        1.0   \n",
       "102      65000   20.0   10.0         0.0          1.0       2.0        1.0   \n",
       "103      62000    3.0   42.0         0.0          1.0       2.0        6.0   \n",
       "\n",
       "     Segment  \n",
       "1        3.0  \n",
       "2        2.0  \n",
       "3        3.0  \n",
       "4        3.0  \n",
       "5        1.0  \n",
       "..       ...  \n",
       "99       2.0  \n",
       "100      4.0  \n",
       "101      2.0  \n",
       "102      2.0  \n",
       "103      4.0  \n",
       "\n",
       "[103 rows x 14 columns]"
      ]
     },
     "execution_count": 27,
     "metadata": {},
     "output_type": "execute_result"
    }
   ],
   "source": [
    "ev1 = ev\n",
    "ev1.index+=1\n",
    "ev1[['Brand', 'Model', 'PowerTrain', 'RapidCharge', 'PlugType', 'BodyStyle', 'Segment']] = result[['Brand', 'Model', 'PowerTrain', 'RapidCharge', 'PlugType', 'BodyStyle', 'Segment']]\n",
    "ev"
   ]
  },
  {
   "cell_type": "code",
   "execution_count": null,
   "id": "2569052d",
   "metadata": {},
   "outputs": [],
   "source": []
  },
  {
   "cell_type": "code",
   "execution_count": null,
   "id": "48de1f8c",
   "metadata": {},
   "outputs": [],
   "source": []
  },
  {
   "cell_type": "code",
   "execution_count": null,
   "id": "a2d83979",
   "metadata": {},
   "outputs": [],
   "source": []
  },
  {
   "cell_type": "code",
   "execution_count": 62,
   "id": "f2136119",
   "metadata": {},
   "outputs": [],
   "source": [
    "import numpy as np\n",
    "\n",
    "features = ['TopSpeed_KmH', 'AccelSec', 'Efficiency_WhKm', 'FastCharge_KmH', 'PowerTrain', 'BodyStyle', 'RapidCharge'  ]\n",
    "\n",
    "for column in features:\n",
    "    ev = ev[ev[column] != '-']\n",
    "\n",
    "X = ev[['TopSpeed_KmH', 'AccelSec', 'Efficiency_WhKm', 'FastCharge_KmH', 'PowerTrain', 'BodyStyle', 'RapidCharge']].values\n",
    "y = ev['Range_Km']\n",
    "\n",
    "\n"
   ]
  },
  {
   "cell_type": "code",
   "execution_count": 63,
   "id": "b9378da6",
   "metadata": {},
   "outputs": [
    {
     "name": "stdout",
     "output_type": "stream",
     "text": [
      "X_train :  (78, 7)\n",
      "X_test :  (20, 7)\n",
      "y_train :  (78,)\n",
      "y_test :  (20,)\n"
     ]
    }
   ],
   "source": [
    "#Training and Test Data\n",
    "\n",
    "X_train, X_test, y_train, y_test = train_test_split(X, y, test_size = 0.2, random_state = 42)\n",
    "\n",
    "print(\"X_train : \",X_train.shape)\n",
    "print(\"X_test : \",X_test.shape)\n",
    "\n",
    "print(\"y_train : \",y_train.shape)\n",
    "\n",
    "\n",
    "print(\"y_test : \",y_test.shape)"
   ]
  },
  {
   "cell_type": "code",
   "execution_count": 64,
   "id": "0c27b256",
   "metadata": {},
   "outputs": [
    {
     "data": {
      "text/html": [
       "<style>#sk-container-id-2 {color: black;}#sk-container-id-2 pre{padding: 0;}#sk-container-id-2 div.sk-toggleable {background-color: white;}#sk-container-id-2 label.sk-toggleable__label {cursor: pointer;display: block;width: 100%;margin-bottom: 0;padding: 0.3em;box-sizing: border-box;text-align: center;}#sk-container-id-2 label.sk-toggleable__label-arrow:before {content: \"▸\";float: left;margin-right: 0.25em;color: #696969;}#sk-container-id-2 label.sk-toggleable__label-arrow:hover:before {color: black;}#sk-container-id-2 div.sk-estimator:hover label.sk-toggleable__label-arrow:before {color: black;}#sk-container-id-2 div.sk-toggleable__content {max-height: 0;max-width: 0;overflow: hidden;text-align: left;background-color: #f0f8ff;}#sk-container-id-2 div.sk-toggleable__content pre {margin: 0.2em;color: black;border-radius: 0.25em;background-color: #f0f8ff;}#sk-container-id-2 input.sk-toggleable__control:checked~div.sk-toggleable__content {max-height: 200px;max-width: 100%;overflow: auto;}#sk-container-id-2 input.sk-toggleable__control:checked~label.sk-toggleable__label-arrow:before {content: \"▾\";}#sk-container-id-2 div.sk-estimator input.sk-toggleable__control:checked~label.sk-toggleable__label {background-color: #d4ebff;}#sk-container-id-2 div.sk-label input.sk-toggleable__control:checked~label.sk-toggleable__label {background-color: #d4ebff;}#sk-container-id-2 input.sk-hidden--visually {border: 0;clip: rect(1px 1px 1px 1px);clip: rect(1px, 1px, 1px, 1px);height: 1px;margin: -1px;overflow: hidden;padding: 0;position: absolute;width: 1px;}#sk-container-id-2 div.sk-estimator {font-family: monospace;background-color: #f0f8ff;border: 1px dotted black;border-radius: 0.25em;box-sizing: border-box;margin-bottom: 0.5em;}#sk-container-id-2 div.sk-estimator:hover {background-color: #d4ebff;}#sk-container-id-2 div.sk-parallel-item::after {content: \"\";width: 100%;border-bottom: 1px solid gray;flex-grow: 1;}#sk-container-id-2 div.sk-label:hover label.sk-toggleable__label {background-color: #d4ebff;}#sk-container-id-2 div.sk-serial::before {content: \"\";position: absolute;border-left: 1px solid gray;box-sizing: border-box;top: 0;bottom: 0;left: 50%;z-index: 0;}#sk-container-id-2 div.sk-serial {display: flex;flex-direction: column;align-items: center;background-color: white;padding-right: 0.2em;padding-left: 0.2em;position: relative;}#sk-container-id-2 div.sk-item {position: relative;z-index: 1;}#sk-container-id-2 div.sk-parallel {display: flex;align-items: stretch;justify-content: center;background-color: white;position: relative;}#sk-container-id-2 div.sk-item::before, #sk-container-id-2 div.sk-parallel-item::before {content: \"\";position: absolute;border-left: 1px solid gray;box-sizing: border-box;top: 0;bottom: 0;left: 50%;z-index: -1;}#sk-container-id-2 div.sk-parallel-item {display: flex;flex-direction: column;z-index: 1;position: relative;background-color: white;}#sk-container-id-2 div.sk-parallel-item:first-child::after {align-self: flex-end;width: 50%;}#sk-container-id-2 div.sk-parallel-item:last-child::after {align-self: flex-start;width: 50%;}#sk-container-id-2 div.sk-parallel-item:only-child::after {width: 0;}#sk-container-id-2 div.sk-dashed-wrapped {border: 1px dashed gray;margin: 0 0.4em 0.5em 0.4em;box-sizing: border-box;padding-bottom: 0.4em;background-color: white;}#sk-container-id-2 div.sk-label label {font-family: monospace;font-weight: bold;display: inline-block;line-height: 1.2em;}#sk-container-id-2 div.sk-label-container {text-align: center;}#sk-container-id-2 div.sk-container {/* jupyter's `normalize.less` sets `[hidden] { display: none; }` but bootstrap.min.css set `[hidden] { display: none !important; }` so we also need the `!important` here to be able to override the default hidden behavior on the sphinx rendered scikit-learn.org. See: https://github.com/scikit-learn/scikit-learn/issues/21755 */display: inline-block !important;position: relative;}#sk-container-id-2 div.sk-text-repr-fallback {display: none;}</style><div id=\"sk-container-id-2\" class=\"sk-top-container\"><div class=\"sk-text-repr-fallback\"><pre>LinearRegression()</pre><b>In a Jupyter environment, please rerun this cell to show the HTML representation or trust the notebook. <br />On GitHub, the HTML representation is unable to render, please try loading this page with nbviewer.org.</b></div><div class=\"sk-container\" hidden><div class=\"sk-item\"><div class=\"sk-estimator sk-toggleable\"><input class=\"sk-toggleable__control sk-hidden--visually\" id=\"sk-estimator-id-2\" type=\"checkbox\" checked><label for=\"sk-estimator-id-2\" class=\"sk-toggleable__label sk-toggleable__label-arrow\">LinearRegression</label><div class=\"sk-toggleable__content\"><pre>LinearRegression()</pre></div></div></div></div></div>"
      ],
      "text/plain": [
       "LinearRegression()"
      ]
     },
     "execution_count": 64,
     "metadata": {},
     "output_type": "execute_result"
    }
   ],
   "source": [
    "# Create Linear Model\n",
    "lr = LinearRegression()\n",
    "\n",
    "lr.fit(X_train, y_train)"
   ]
  },
  {
   "cell_type": "code",
   "execution_count": 65,
   "id": "d9e9b895",
   "metadata": {},
   "outputs": [
    {
     "data": {
      "text/plain": [
       "array([343.96135802, 478.28396575, 418.98065068, 237.02818471,\n",
       "       302.58953114])"
      ]
     },
     "execution_count": 65,
     "metadata": {},
     "output_type": "execute_result"
    }
   ],
   "source": [
    "\n",
    "y_pred = lr.predict(X_test)\n",
    "y_pred[0:5]"
   ]
  },
  {
   "cell_type": "code",
   "execution_count": 66,
   "id": "063143da",
   "metadata": {},
   "outputs": [
    {
     "data": {
      "text/plain": [
       "['D:/EDI/EDI_SEM5/Model/linear_regression_model.pkl']"
      ]
     },
     "execution_count": 66,
     "metadata": {},
     "output_type": "execute_result"
    }
   ],
   "source": [
    "import joblib\n",
    "\n",
    "joblib.dump(lr, 'D:/EDI/EDI_SEM5/Model/linear_regression_model.pkl')\n"
   ]
  },
  {
   "cell_type": "code",
   "execution_count": null,
   "id": "0a9a9819",
   "metadata": {},
   "outputs": [],
   "source": []
  },
  {
   "cell_type": "code",
   "execution_count": 67,
   "id": "16a1332f",
   "metadata": {},
   "outputs": [],
   "source": [
    "\n",
    "loaded_lr_model = joblib.load('linear_regression_model.pkl')\n"
   ]
  },
  {
   "cell_type": "code",
   "execution_count": 68,
   "id": "37c57629",
   "metadata": {},
   "outputs": [
    {
     "ename": "ValueError",
     "evalue": "X has 4 features, but LinearRegression is expecting 7 features as input.",
     "output_type": "error",
     "traceback": [
      "\u001b[1;31m---------------------------------------------------------------------------\u001b[0m",
      "\u001b[1;31mValueError\u001b[0m                                Traceback (most recent call last)",
      "Cell \u001b[1;32mIn[68], line 13\u001b[0m\n\u001b[0;32m      9\u001b[0m fast_charge \u001b[38;5;241m=\u001b[39m \u001b[38;5;241m250\u001b[39m\n\u001b[0;32m     11\u001b[0m real_time_features \u001b[38;5;241m=\u001b[39m np\u001b[38;5;241m.\u001b[39marray([[top_speed, acceleration, efficiency, fast_charge]])\n\u001b[1;32m---> 13\u001b[0m predicted_range \u001b[38;5;241m=\u001b[39m \u001b[43mlr_model\u001b[49m\u001b[38;5;241;43m.\u001b[39;49m\u001b[43mpredict\u001b[49m\u001b[43m(\u001b[49m\u001b[43mreal_time_features\u001b[49m\u001b[43m)\u001b[49m\n\u001b[0;32m     14\u001b[0m \u001b[38;5;28mprint\u001b[39m(predicted_range)\n",
      "File \u001b[1;32m~\\AppData\\Local\\Programs\\Python\\Python311\\Lib\\site-packages\\sklearn\\linear_model\\_base.py:386\u001b[0m, in \u001b[0;36mLinearModel.predict\u001b[1;34m(self, X)\u001b[0m\n\u001b[0;32m    372\u001b[0m \u001b[38;5;28;01mdef\u001b[39;00m \u001b[38;5;21mpredict\u001b[39m(\u001b[38;5;28mself\u001b[39m, X):\n\u001b[0;32m    373\u001b[0m \u001b[38;5;250m    \u001b[39m\u001b[38;5;124;03m\"\"\"\u001b[39;00m\n\u001b[0;32m    374\u001b[0m \u001b[38;5;124;03m    Predict using the linear model.\u001b[39;00m\n\u001b[0;32m    375\u001b[0m \n\u001b[1;32m   (...)\u001b[0m\n\u001b[0;32m    384\u001b[0m \u001b[38;5;124;03m        Returns predicted values.\u001b[39;00m\n\u001b[0;32m    385\u001b[0m \u001b[38;5;124;03m    \"\"\"\u001b[39;00m\n\u001b[1;32m--> 386\u001b[0m     \u001b[38;5;28;01mreturn\u001b[39;00m \u001b[38;5;28;43mself\u001b[39;49m\u001b[38;5;241;43m.\u001b[39;49m\u001b[43m_decision_function\u001b[49m\u001b[43m(\u001b[49m\u001b[43mX\u001b[49m\u001b[43m)\u001b[49m\n",
      "File \u001b[1;32m~\\AppData\\Local\\Programs\\Python\\Python311\\Lib\\site-packages\\sklearn\\linear_model\\_base.py:369\u001b[0m, in \u001b[0;36mLinearModel._decision_function\u001b[1;34m(self, X)\u001b[0m\n\u001b[0;32m    366\u001b[0m \u001b[38;5;28;01mdef\u001b[39;00m \u001b[38;5;21m_decision_function\u001b[39m(\u001b[38;5;28mself\u001b[39m, X):\n\u001b[0;32m    367\u001b[0m     check_is_fitted(\u001b[38;5;28mself\u001b[39m)\n\u001b[1;32m--> 369\u001b[0m     X \u001b[38;5;241m=\u001b[39m \u001b[38;5;28;43mself\u001b[39;49m\u001b[38;5;241;43m.\u001b[39;49m\u001b[43m_validate_data\u001b[49m\u001b[43m(\u001b[49m\u001b[43mX\u001b[49m\u001b[43m,\u001b[49m\u001b[43m \u001b[49m\u001b[43maccept_sparse\u001b[49m\u001b[38;5;241;43m=\u001b[39;49m\u001b[43m[\u001b[49m\u001b[38;5;124;43m\"\u001b[39;49m\u001b[38;5;124;43mcsr\u001b[39;49m\u001b[38;5;124;43m\"\u001b[39;49m\u001b[43m,\u001b[49m\u001b[43m \u001b[49m\u001b[38;5;124;43m\"\u001b[39;49m\u001b[38;5;124;43mcsc\u001b[39;49m\u001b[38;5;124;43m\"\u001b[39;49m\u001b[43m,\u001b[49m\u001b[43m \u001b[49m\u001b[38;5;124;43m\"\u001b[39;49m\u001b[38;5;124;43mcoo\u001b[39;49m\u001b[38;5;124;43m\"\u001b[39;49m\u001b[43m]\u001b[49m\u001b[43m,\u001b[49m\u001b[43m \u001b[49m\u001b[43mreset\u001b[49m\u001b[38;5;241;43m=\u001b[39;49m\u001b[38;5;28;43;01mFalse\u001b[39;49;00m\u001b[43m)\u001b[49m\n\u001b[0;32m    370\u001b[0m     \u001b[38;5;28;01mreturn\u001b[39;00m safe_sparse_dot(X, \u001b[38;5;28mself\u001b[39m\u001b[38;5;241m.\u001b[39mcoef_\u001b[38;5;241m.\u001b[39mT, dense_output\u001b[38;5;241m=\u001b[39m\u001b[38;5;28;01mTrue\u001b[39;00m) \u001b[38;5;241m+\u001b[39m \u001b[38;5;28mself\u001b[39m\u001b[38;5;241m.\u001b[39mintercept_\n",
      "File \u001b[1;32m~\\AppData\\Local\\Programs\\Python\\Python311\\Lib\\site-packages\\sklearn\\base.py:626\u001b[0m, in \u001b[0;36mBaseEstimator._validate_data\u001b[1;34m(self, X, y, reset, validate_separately, cast_to_ndarray, **check_params)\u001b[0m\n\u001b[0;32m    623\u001b[0m     out \u001b[38;5;241m=\u001b[39m X, y\n\u001b[0;32m    625\u001b[0m \u001b[38;5;28;01mif\u001b[39;00m \u001b[38;5;129;01mnot\u001b[39;00m no_val_X \u001b[38;5;129;01mand\u001b[39;00m check_params\u001b[38;5;241m.\u001b[39mget(\u001b[38;5;124m\"\u001b[39m\u001b[38;5;124mensure_2d\u001b[39m\u001b[38;5;124m\"\u001b[39m, \u001b[38;5;28;01mTrue\u001b[39;00m):\n\u001b[1;32m--> 626\u001b[0m     \u001b[38;5;28;43mself\u001b[39;49m\u001b[38;5;241;43m.\u001b[39;49m\u001b[43m_check_n_features\u001b[49m\u001b[43m(\u001b[49m\u001b[43mX\u001b[49m\u001b[43m,\u001b[49m\u001b[43m \u001b[49m\u001b[43mreset\u001b[49m\u001b[38;5;241;43m=\u001b[39;49m\u001b[43mreset\u001b[49m\u001b[43m)\u001b[49m\n\u001b[0;32m    628\u001b[0m \u001b[38;5;28;01mreturn\u001b[39;00m out\n",
      "File \u001b[1;32m~\\AppData\\Local\\Programs\\Python\\Python311\\Lib\\site-packages\\sklearn\\base.py:415\u001b[0m, in \u001b[0;36mBaseEstimator._check_n_features\u001b[1;34m(self, X, reset)\u001b[0m\n\u001b[0;32m    412\u001b[0m     \u001b[38;5;28;01mreturn\u001b[39;00m\n\u001b[0;32m    414\u001b[0m \u001b[38;5;28;01mif\u001b[39;00m n_features \u001b[38;5;241m!=\u001b[39m \u001b[38;5;28mself\u001b[39m\u001b[38;5;241m.\u001b[39mn_features_in_:\n\u001b[1;32m--> 415\u001b[0m     \u001b[38;5;28;01mraise\u001b[39;00m \u001b[38;5;167;01mValueError\u001b[39;00m(\n\u001b[0;32m    416\u001b[0m         \u001b[38;5;124mf\u001b[39m\u001b[38;5;124m\"\u001b[39m\u001b[38;5;124mX has \u001b[39m\u001b[38;5;132;01m{\u001b[39;00mn_features\u001b[38;5;132;01m}\u001b[39;00m\u001b[38;5;124m features, but \u001b[39m\u001b[38;5;132;01m{\u001b[39;00m\u001b[38;5;28mself\u001b[39m\u001b[38;5;241m.\u001b[39m\u001b[38;5;18m__class__\u001b[39m\u001b[38;5;241m.\u001b[39m\u001b[38;5;18m__name__\u001b[39m\u001b[38;5;132;01m}\u001b[39;00m\u001b[38;5;124m \u001b[39m\u001b[38;5;124m\"\u001b[39m\n\u001b[0;32m    417\u001b[0m         \u001b[38;5;124mf\u001b[39m\u001b[38;5;124m\"\u001b[39m\u001b[38;5;124mis expecting \u001b[39m\u001b[38;5;132;01m{\u001b[39;00m\u001b[38;5;28mself\u001b[39m\u001b[38;5;241m.\u001b[39mn_features_in_\u001b[38;5;132;01m}\u001b[39;00m\u001b[38;5;124m features as input.\u001b[39m\u001b[38;5;124m\"\u001b[39m\n\u001b[0;32m    418\u001b[0m     )\n",
      "\u001b[1;31mValueError\u001b[0m: X has 4 features, but LinearRegression is expecting 7 features as input."
     ]
    }
   ],
   "source": [
    "#real - time data\n",
    "import joblib\n",
    "\n",
    "lr_model = joblib.load('D:/EDI/EDI_SEM5/Model/linear_regression_model.pkl')\n",
    "\n",
    "top_speed = 160\n",
    "acceleration = 15.0\n",
    "efficiency = 100\n",
    "fast_charge = 250\n",
    "\n",
    "real_time_features = np.array([[top_speed, acceleration, efficiency, fast_charge]])\n",
    "\n",
    "predicted_range = lr_model.predict(real_time_features)\n",
    "print(predicted_range)\n"
   ]
  },
  {
   "cell_type": "code",
   "execution_count": 69,
   "id": "d0039510",
   "metadata": {
    "scrolled": true
   },
   "outputs": [
    {
     "ename": "ValueError",
     "evalue": "X has 4 features, but LinearRegression is expecting 7 features as input.",
     "output_type": "error",
     "traceback": [
      "\u001b[1;31m---------------------------------------------------------------------------\u001b[0m",
      "\u001b[1;31mValueError\u001b[0m                                Traceback (most recent call last)",
      "Cell \u001b[1;32mIn[69], line 16\u001b[0m\n\u001b[0;32m     12\u001b[0m fast_charge \u001b[38;5;241m=\u001b[39m \u001b[38;5;241m270\u001b[39m\n\u001b[0;32m     14\u001b[0m features \u001b[38;5;241m=\u001b[39m np\u001b[38;5;241m.\u001b[39marray([[top_speed, acceleration, efficiency, fast_charge]])\n\u001b[1;32m---> 16\u001b[0m predicted_range \u001b[38;5;241m=\u001b[39m \u001b[43mlr\u001b[49m\u001b[38;5;241;43m.\u001b[39;49m\u001b[43mpredict\u001b[49m\u001b[43m(\u001b[49m\u001b[43mfeatures\u001b[49m\u001b[43m)\u001b[49m\n\u001b[0;32m     18\u001b[0m \u001b[38;5;28mprint\u001b[39m(\u001b[38;5;124m\"\u001b[39m\u001b[38;5;124mPredicted Range (Km):\u001b[39m\u001b[38;5;124m\"\u001b[39m, predicted_range[\u001b[38;5;241m0\u001b[39m])\n",
      "File \u001b[1;32m~\\AppData\\Local\\Programs\\Python\\Python311\\Lib\\site-packages\\sklearn\\linear_model\\_base.py:386\u001b[0m, in \u001b[0;36mLinearModel.predict\u001b[1;34m(self, X)\u001b[0m\n\u001b[0;32m    372\u001b[0m \u001b[38;5;28;01mdef\u001b[39;00m \u001b[38;5;21mpredict\u001b[39m(\u001b[38;5;28mself\u001b[39m, X):\n\u001b[0;32m    373\u001b[0m \u001b[38;5;250m    \u001b[39m\u001b[38;5;124;03m\"\"\"\u001b[39;00m\n\u001b[0;32m    374\u001b[0m \u001b[38;5;124;03m    Predict using the linear model.\u001b[39;00m\n\u001b[0;32m    375\u001b[0m \n\u001b[1;32m   (...)\u001b[0m\n\u001b[0;32m    384\u001b[0m \u001b[38;5;124;03m        Returns predicted values.\u001b[39;00m\n\u001b[0;32m    385\u001b[0m \u001b[38;5;124;03m    \"\"\"\u001b[39;00m\n\u001b[1;32m--> 386\u001b[0m     \u001b[38;5;28;01mreturn\u001b[39;00m \u001b[38;5;28;43mself\u001b[39;49m\u001b[38;5;241;43m.\u001b[39;49m\u001b[43m_decision_function\u001b[49m\u001b[43m(\u001b[49m\u001b[43mX\u001b[49m\u001b[43m)\u001b[49m\n",
      "File \u001b[1;32m~\\AppData\\Local\\Programs\\Python\\Python311\\Lib\\site-packages\\sklearn\\linear_model\\_base.py:369\u001b[0m, in \u001b[0;36mLinearModel._decision_function\u001b[1;34m(self, X)\u001b[0m\n\u001b[0;32m    366\u001b[0m \u001b[38;5;28;01mdef\u001b[39;00m \u001b[38;5;21m_decision_function\u001b[39m(\u001b[38;5;28mself\u001b[39m, X):\n\u001b[0;32m    367\u001b[0m     check_is_fitted(\u001b[38;5;28mself\u001b[39m)\n\u001b[1;32m--> 369\u001b[0m     X \u001b[38;5;241m=\u001b[39m \u001b[38;5;28;43mself\u001b[39;49m\u001b[38;5;241;43m.\u001b[39;49m\u001b[43m_validate_data\u001b[49m\u001b[43m(\u001b[49m\u001b[43mX\u001b[49m\u001b[43m,\u001b[49m\u001b[43m \u001b[49m\u001b[43maccept_sparse\u001b[49m\u001b[38;5;241;43m=\u001b[39;49m\u001b[43m[\u001b[49m\u001b[38;5;124;43m\"\u001b[39;49m\u001b[38;5;124;43mcsr\u001b[39;49m\u001b[38;5;124;43m\"\u001b[39;49m\u001b[43m,\u001b[49m\u001b[43m \u001b[49m\u001b[38;5;124;43m\"\u001b[39;49m\u001b[38;5;124;43mcsc\u001b[39;49m\u001b[38;5;124;43m\"\u001b[39;49m\u001b[43m,\u001b[49m\u001b[43m \u001b[49m\u001b[38;5;124;43m\"\u001b[39;49m\u001b[38;5;124;43mcoo\u001b[39;49m\u001b[38;5;124;43m\"\u001b[39;49m\u001b[43m]\u001b[49m\u001b[43m,\u001b[49m\u001b[43m \u001b[49m\u001b[43mreset\u001b[49m\u001b[38;5;241;43m=\u001b[39;49m\u001b[38;5;28;43;01mFalse\u001b[39;49;00m\u001b[43m)\u001b[49m\n\u001b[0;32m    370\u001b[0m     \u001b[38;5;28;01mreturn\u001b[39;00m safe_sparse_dot(X, \u001b[38;5;28mself\u001b[39m\u001b[38;5;241m.\u001b[39mcoef_\u001b[38;5;241m.\u001b[39mT, dense_output\u001b[38;5;241m=\u001b[39m\u001b[38;5;28;01mTrue\u001b[39;00m) \u001b[38;5;241m+\u001b[39m \u001b[38;5;28mself\u001b[39m\u001b[38;5;241m.\u001b[39mintercept_\n",
      "File \u001b[1;32m~\\AppData\\Local\\Programs\\Python\\Python311\\Lib\\site-packages\\sklearn\\base.py:626\u001b[0m, in \u001b[0;36mBaseEstimator._validate_data\u001b[1;34m(self, X, y, reset, validate_separately, cast_to_ndarray, **check_params)\u001b[0m\n\u001b[0;32m    623\u001b[0m     out \u001b[38;5;241m=\u001b[39m X, y\n\u001b[0;32m    625\u001b[0m \u001b[38;5;28;01mif\u001b[39;00m \u001b[38;5;129;01mnot\u001b[39;00m no_val_X \u001b[38;5;129;01mand\u001b[39;00m check_params\u001b[38;5;241m.\u001b[39mget(\u001b[38;5;124m\"\u001b[39m\u001b[38;5;124mensure_2d\u001b[39m\u001b[38;5;124m\"\u001b[39m, \u001b[38;5;28;01mTrue\u001b[39;00m):\n\u001b[1;32m--> 626\u001b[0m     \u001b[38;5;28;43mself\u001b[39;49m\u001b[38;5;241;43m.\u001b[39;49m\u001b[43m_check_n_features\u001b[49m\u001b[43m(\u001b[49m\u001b[43mX\u001b[49m\u001b[43m,\u001b[49m\u001b[43m \u001b[49m\u001b[43mreset\u001b[49m\u001b[38;5;241;43m=\u001b[39;49m\u001b[43mreset\u001b[49m\u001b[43m)\u001b[49m\n\u001b[0;32m    628\u001b[0m \u001b[38;5;28;01mreturn\u001b[39;00m out\n",
      "File \u001b[1;32m~\\AppData\\Local\\Programs\\Python\\Python311\\Lib\\site-packages\\sklearn\\base.py:415\u001b[0m, in \u001b[0;36mBaseEstimator._check_n_features\u001b[1;34m(self, X, reset)\u001b[0m\n\u001b[0;32m    412\u001b[0m     \u001b[38;5;28;01mreturn\u001b[39;00m\n\u001b[0;32m    414\u001b[0m \u001b[38;5;28;01mif\u001b[39;00m n_features \u001b[38;5;241m!=\u001b[39m \u001b[38;5;28mself\u001b[39m\u001b[38;5;241m.\u001b[39mn_features_in_:\n\u001b[1;32m--> 415\u001b[0m     \u001b[38;5;28;01mraise\u001b[39;00m \u001b[38;5;167;01mValueError\u001b[39;00m(\n\u001b[0;32m    416\u001b[0m         \u001b[38;5;124mf\u001b[39m\u001b[38;5;124m\"\u001b[39m\u001b[38;5;124mX has \u001b[39m\u001b[38;5;132;01m{\u001b[39;00mn_features\u001b[38;5;132;01m}\u001b[39;00m\u001b[38;5;124m features, but \u001b[39m\u001b[38;5;132;01m{\u001b[39;00m\u001b[38;5;28mself\u001b[39m\u001b[38;5;241m.\u001b[39m\u001b[38;5;18m__class__\u001b[39m\u001b[38;5;241m.\u001b[39m\u001b[38;5;18m__name__\u001b[39m\u001b[38;5;132;01m}\u001b[39;00m\u001b[38;5;124m \u001b[39m\u001b[38;5;124m\"\u001b[39m\n\u001b[0;32m    417\u001b[0m         \u001b[38;5;124mf\u001b[39m\u001b[38;5;124m\"\u001b[39m\u001b[38;5;124mis expecting \u001b[39m\u001b[38;5;132;01m{\u001b[39;00m\u001b[38;5;28mself\u001b[39m\u001b[38;5;241m.\u001b[39mn_features_in_\u001b[38;5;132;01m}\u001b[39;00m\u001b[38;5;124m features as input.\u001b[39m\u001b[38;5;124m\"\u001b[39m\n\u001b[0;32m    418\u001b[0m     )\n",
      "\u001b[1;31mValueError\u001b[0m: X has 4 features, but LinearRegression is expecting 7 features as input."
     ]
    }
   ],
   "source": [
    "#Predict the range of this EV using linear regression model.\n",
    "\n",
    "import joblib\n",
    "\n",
    "lr = joblib.load('D:/EDI/EDI_SEM5/Model/linear_regression_model.pkl')\n",
    "\n",
    "import numpy as np\n",
    "\n",
    "top_speed = 170\n",
    "acceleration = 20\n",
    "efficiency = 150\n",
    "fast_charge = 270\n",
    "\n",
    "features = np.array([[top_speed, acceleration, efficiency, fast_charge]])\n",
    "\n",
    "predicted_range = lr.predict(features)\n",
    "\n",
    "print(\"Predicted Range (Km):\", predicted_range[0])"
   ]
  },
  {
   "cell_type": "code",
   "execution_count": 38,
   "id": "8b4c89f5",
   "metadata": {
    "scrolled": true
   },
   "outputs": [
    {
     "name": "stdout",
     "output_type": "stream",
     "text": [
      "Enter the total capacity of the battery pack in kilowatt-hours (KWh): 222\n",
      "Estimated State of Charge (SoC): 66.80%\n"
     ]
    }
   ],
   "source": [
    "total_capacity_kwh = float(input(\"Enter the total capacity of the battery pack in kilowatt-hours (KWh): \"))\n",
    "efficiency_wh_km =222\n",
    "consumed_energy = efficiency_wh_km * predicted_range / 1000  # Convert to KWh\n",
    "\n",
    "# Calculate SoC\n",
    "current_soc = 100 - (consumed_energy / total_capacity_kwh) * 100\n",
    "print(f\"Estimated State of Charge (SoC): {current_soc[0]:.2f}%\")\n"
   ]
  },
  {
   "cell_type": "code",
   "execution_count": 39,
   "id": "676a9d76",
   "metadata": {},
   "outputs": [
    {
     "name": "stdout",
     "output_type": "stream",
     "text": [
      "Charging/Discharging Decision: maintain\n"
     ]
    }
   ],
   "source": [
    "def charging_discharging_decision(predicted_range, current_soc, min_soc_threshold, max_soc_threshold):\n",
    "    \"\"\"\n",
    "    Make a decision whether to charge, discharge, or maintain the current state based on predicted range and current SoC.\n",
    "    \"\"\"\n",
    "    if current_soc < min_soc_threshold:\n",
    "        decision = 'discharge'\n",
    "    elif current_soc > max_soc_threshold:\n",
    "        decision = 'charge'\n",
    "    else:\n",
    "        decision = 'maintain'\n",
    "    return decision\n",
    "\n",
    "predicted_range  \n",
    "current_soc     \n",
    "min_soc_threshold = 20\n",
    "max_soc_threshold = 80\n",
    "\n",
    "decision = charging_discharging_decision(predicted_range, current_soc, min_soc_threshold, max_soc_threshold)\n",
    "print(\"Charging/Discharging Decision:\", decision)"
   ]
  },
  {
   "cell_type": "code",
   "execution_count": 40,
   "id": "b424e6a8",
   "metadata": {},
   "outputs": [
    {
     "name": "stdout",
     "output_type": "stream",
     "text": [
      "Predicted Range (Km): 331.9763523576079\n",
      "Enter the total capacity of the battery pack in kilowatt-hours (KWh): 333\n",
      "Estimated State of Charge (SoC): 77.87%\n",
      "Recovered Energy from Regenerative Breaking: 88.80 KWh\n",
      "Estimated State of Charge (SoC) after regenerative breaking: 151.20%\n",
      "Charging/Discharging Decision after Regenerative Breaking: maintain\n"
     ]
    }
   ],
   "source": [
    "import numpy as np\n",
    "\n",
    "def regenerative_braking(current_speed, deceleration_rate, efficiency_wh_km):\n",
    "    recovered_energy = 0.5 * (current_speed ** 2) / deceleration_rate * efficiency_wh_km / 1000  # Convert to KWh\n",
    "    return recovered_energy\n",
    "\n",
    "lr = joblib.load('D:/EDI/EDI_SEM5/Model/linear_regression_model.pkl')\n",
    "\n",
    "top_speed = 170\n",
    "acceleration = 20\n",
    "efficiency = 150\n",
    "fast_charge = 270\n",
    "\n",
    "features = np.array([[top_speed, acceleration, efficiency, fast_charge]])\n",
    "\n",
    "predicted_range = lr.predict(features)\n",
    "\n",
    "print(\"Predicted Range (Km):\", predicted_range[0])\n",
    "\n",
    "total_capacity_kwh = float(input(\"Enter the total capacity of the battery pack in kilowatt-hours (KWh): \"))\n",
    "efficiency_wh_km \n",
    "consumed_energy = efficiency_wh_km * predicted_range / 1000  # Convert to KWh\n",
    "\n",
    "# Calculate SoC\n",
    "current_soc = 100 - (consumed_energy / total_capacity_kwh) * 100\n",
    "print(f\"Estimated State of Charge (SoC): {current_soc[0]:.2f}%\")\n",
    "\n",
    "# Example values for regenerative braking\n",
    "current_speed = 40 \n",
    "deceleration_rate = 2\n",
    "\n",
    "recovered_energy = regenerative_braking(current_speed, deceleration_rate, efficiency_wh_km)\n",
    "print(f\"Recovered Energy from Regenerative Breaking: {recovered_energy:.2f} KWh\")\n",
    "\n",
    "current_soc += 100 - (recovered_energy / total_capacity_kwh) * 100\n",
    "\n",
    "print(f\"Estimated State of Charge (SoC) after regenerative breaking: {current_soc[0]:.2f}%\")\n",
    "\n",
    "max_soc_threshold = 80 \n",
    "if current_soc > max_soc_threshold:\n",
    "    current_soc = max_soc_threshold\n",
    "\n",
    "min_soc_threshold = 20  \n",
    "if current_soc < min_soc_threshold:\n",
    "    current_soc = min_soc_threshold\n",
    "\n",
    "adjusted_decision = charging_discharging_decision(predicted_range, current_soc, min_soc_threshold, max_soc_threshold)\n",
    "print(\"Charging/Discharging Decision after Regenerative Breaking:\", adjusted_decision)\n"
   ]
  },
  {
   "cell_type": "code",
   "execution_count": 89,
   "id": "8cc85ce0",
   "metadata": {},
   "outputs": [
    {
     "name": "stdout",
     "output_type": "stream",
     "text": [
      "[170  20 150 270]: 1.3634684666056538\n"
     ]
    }
   ],
   "source": [
    "\n",
    "# Get the coefficients\n",
    "coefficients = lr.coef_\n",
    "\n",
    "# Print the coefficients for each feature\n",
    "for feature, coefficient in zip(features, coefficients):\n",
    "    print(f\"{feature}: {coefficient}\")\n"
   ]
  },
  {
   "cell_type": "code",
   "execution_count": 41,
   "id": "0db14c21",
   "metadata": {},
   "outputs": [
    {
     "data": {
      "text/plain": [
       "array([1.36346847, 3.54887784, 0.24366532, 0.23156753])"
      ]
     },
     "execution_count": 41,
     "metadata": {},
     "output_type": "execute_result"
    }
   ],
   "source": [
    "lr.coef_"
   ]
  },
  {
   "cell_type": "code",
   "execution_count": 42,
   "id": "413680db",
   "metadata": {},
   "outputs": [
    {
     "data": {
      "text/plain": [
       "-69.86387402319036"
      ]
     },
     "execution_count": 42,
     "metadata": {},
     "output_type": "execute_result"
    }
   ],
   "source": [
    "lr.intercept_"
   ]
  },
  {
   "cell_type": "code",
   "execution_count": 73,
   "id": "13d80362",
   "metadata": {},
   "outputs": [
    {
     "name": "stdout",
     "output_type": "stream",
     "text": [
      "Coefficients: 1.297678350610214 2.960147150862584 0.39289076471293516 0.2635769670952439 -2.7280753897341152 -8.317665324630662 0.0\n"
     ]
    }
   ],
   "source": [
    "# Assuming X_train and Y_train are your training data\n",
    "from sklearn.linear_model import LinearRegression\n",
    "\n",
    "# Create and fit the linear regression model\n",
    "reg = LinearRegression().fit(X_train, y_train)\n",
    "\n",
    "# Get the coefficients\n",
    "coefficients = reg.coef_\n",
    "#'TopSpeed_KmH', 'AccelSec', 'Efficiency_WhKm', 'FastCharge_KmH', 'PowerTrain', 'BodyStyle', 'RapidCharge'\n",
    "\n",
    "# Print the coefficients\n",
    "print(\"Coefficients:\", coefficients[0], coefficients[1], coefficients[2], coefficients[3], coefficients[4],coefficients[5], coefficients[6])"
   ]
  },
  {
   "cell_type": "code",
   "execution_count": null,
   "id": "ce4a4507",
   "metadata": {},
   "outputs": [],
   "source": []
  },
  {
   "cell_type": "raw",
   "id": "036198a6",
   "metadata": {},
   "source": []
  },
  {
   "cell_type": "code",
   "execution_count": 60,
   "id": "4d787b28",
   "metadata": {},
   "outputs": [
    {
     "data": {
      "image/png": "[encoded data removed]",
      "text/plain": [
       "<Figure size 640x480 with 1 Axes>"
      ]
     },
     "metadata": {},
     "output_type": "display_data"
    }
   ],
   "source": [
    "ax1 = sns.kdeplot(y_test, color=\"r\", label=\"Actual Value\")\n",
    "sns.kdeplot(y_pred, color=\"b\", label=\"Fitted Values\", ax=ax1)\n",
    "plt.title('Actual vs Fitted value for Range')\n",
    "plt.xlabel('Range(in Km)')\n",
    "plt.ylabel('Proportion of Cars')\n",
    "plt.show()\n",
    "plt.close()"
   ]
  },
  {
   "cell_type": "code",
   "execution_count": 61,
   "id": "40a7d1c9",
   "metadata": {},
   "outputs": [
    {
     "name": "stdout",
     "output_type": "stream",
     "text": [
      "R2 for Traing Data:  0.5861633867646734\n"
     ]
    }
   ],
   "source": [
    "#Model Evaluation (Regression Metrics)\n",
    "# Calculate the score for Training Data\n",
    "lr.score(X_train, y_train)\n",
    "print(\"R2 for Traing Data: \", lr.score(X_train, y_train))"
   ]
  },
  {
   "cell_type": "code",
   "execution_count": 62,
   "id": "a6ce7059",
   "metadata": {},
   "outputs": [
    {
     "name": "stdout",
     "output_type": "stream",
     "text": [
      "R2 for Testing Data:  0.45761057415389494\n"
     ]
    }
   ],
   "source": [
    "# Calculate the score (R^2 for Regression) for Testing Data\n",
    "lr.score(X_test, y_test)\n",
    "print(\"R2 for Testing Data: \", lr.score(X_test, y_test))"
   ]
  },
  {
   "cell_type": "code",
   "execution_count": 63,
   "id": "0175f716",
   "metadata": {},
   "outputs": [
    {
     "name": "stdout",
     "output_type": "stream",
     "text": [
      "MSE:  3941.0015681977993\n"
     ]
    }
   ],
   "source": [
    "#Calculate Mean Squared Error\n",
    "mean_squared_error(y_test, y_pred)\n",
    "print(\"MSE: \", mean_squared_error(y_test, y_pred))"
   ]
  },
  {
   "cell_type": "code",
   "execution_count": 64,
   "id": "3f8742cc",
   "metadata": {},
   "outputs": [
    {
     "name": "stdout",
     "output_type": "stream",
     "text": [
      "MAE:  51.6450531526145\n"
     ]
    }
   ],
   "source": [
    "#Calculate Mean Absolute Error(MAE)\n",
    "mean_absolute_error(y_test, y_pred)\n",
    "print(\"MAE: \",mean_absolute_error(y_test, y_pred))"
   ]
  },
  {
   "cell_type": "code",
   "execution_count": 65,
   "id": "7f8ea060",
   "metadata": {},
   "outputs": [
    {
     "name": "stdout",
     "output_type": "stream",
     "text": [
      "RMSE:  62.777396953026006\n"
     ]
    }
   ],
   "source": [
    "#Calculate Root Mean Squared Error(RMSE)\n",
    "\n",
    "print(\"RMSE: \",np.sqrt(mean_squared_error(y_test,y_pred)))"
   ]
  },
  {
   "cell_type": "code",
   "execution_count": null,
   "id": "b3fe5e1b",
   "metadata": {},
   "outputs": [],
   "source": []
  },
  {
   "cell_type": "code",
   "execution_count": null,
   "id": "5280eb46",
   "metadata": {},
   "outputs": [],
   "source": []
  },
  {
   "cell_type": "code",
   "execution_count": null,
   "id": "176ff507",
   "metadata": {},
   "outputs": [],
   "source": []
  },
  {
   "cell_type": "code",
   "execution_count": null,
   "id": "d49e2629",
   "metadata": {},
   "outputs": [],
   "source": []
  },
  {
   "cell_type": "code",
   "execution_count": null,
   "id": "7d4fd002",
   "metadata": {},
   "outputs": [],
   "source": []
  },
  {
   "cell_type": "code",
   "execution_count": null,
   "id": "8ffa817c",
   "metadata": {},
   "outputs": [],
   "source": []
  },
  {
   "cell_type": "code",
   "execution_count": null,
   "id": "513b7142",
   "metadata": {},
   "outputs": [],
   "source": []
  },
  {
   "cell_type": "code",
   "execution_count": null,
   "id": "fe591d23",
   "metadata": {},
   "outputs": [],
   "source": []
  },
  {
   "cell_type": "code",
   "execution_count": null,
   "id": "fd10d6d3",
   "metadata": {},
   "outputs": [],
   "source": []
  },
  {
   "cell_type": "code",
   "execution_count": null,
   "id": "d25b6ce8",
   "metadata": {},
   "outputs": [],
   "source": []
  },
  {
   "cell_type": "code",
   "execution_count": null,
   "id": "cd61fe94",
   "metadata": {},
   "outputs": [],
   "source": []
  },
  {
   "cell_type": "code",
   "execution_count": null,
   "id": "4e63a85a",
   "metadata": {},
   "outputs": [],
   "source": []
  },
  {
   "cell_type": "code",
   "execution_count": null,
   "id": "1475b4a2",
   "metadata": {},
   "outputs": [],
   "source": []
  },
  {
   "cell_type": "code",
   "execution_count": null,
   "id": "243fb17a",
   "metadata": {},
   "outputs": [],
   "source": []
  },
  {
   "cell_type": "code",
   "execution_count": null,
   "id": "d940ccf1",
   "metadata": {},
   "outputs": [],
   "source": []
  }
 ],
 "metadata": {
  "kernelspec": {
   "display_name": "Python 3 (ipykernel)",
   "language": "python",
   "name": "python3"
  },
  "language_info": {
   "codemirror_mode": {
    "name": "ipython",
    "version": 3
   },
   "file_extension": ".py",
   "mimetype": "text/x-python",
   "name": "python",
   "nbconvert_exporter": "python",
   "pygments_lexer": "ipython3",
   "version": "3.11.4"
  }
 },
 "nbformat": 4,
 "nbformat_minor": 5
}
